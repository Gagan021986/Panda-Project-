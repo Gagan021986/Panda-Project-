{
 "cells": [
  {
   "cell_type": "code",
   "execution_count": 34,
   "metadata": {},
   "outputs": [],
   "source": [
    "%matplotlib inline\n",
    "import pandas as pd\n"
   ]
  },
  {
   "cell_type": "code",
   "execution_count": 35,
   "metadata": {},
   "outputs": [],
   "source": [
    " data= pd.read_csv(\"C:/Users/Hira singh/Desktop/cast.csv\")"
   ]
  },
  {
   "cell_type": "code",
   "execution_count": 36,
   "metadata": {},
   "outputs": [
    {
     "data": {
      "text/html": [
       "<div>\n",
       "<style scoped>\n",
       "    .dataframe tbody tr th:only-of-type {\n",
       "        vertical-align: middle;\n",
       "    }\n",
       "\n",
       "    .dataframe tbody tr th {\n",
       "        vertical-align: top;\n",
       "    }\n",
       "\n",
       "    .dataframe thead th {\n",
       "        text-align: right;\n",
       "    }\n",
       "</style>\n",
       "<table border=\"1\" class=\"dataframe\">\n",
       "  <thead>\n",
       "    <tr style=\"text-align: right;\">\n",
       "      <th></th>\n",
       "      <th>title</th>\n",
       "      <th>year</th>\n",
       "      <th>name</th>\n",
       "      <th>type</th>\n",
       "      <th>character</th>\n",
       "      <th>n</th>\n",
       "    </tr>\n",
       "  </thead>\n",
       "  <tbody>\n",
       "    <tr>\n",
       "      <th>0</th>\n",
       "      <td>Closet Monster</td>\n",
       "      <td>2015</td>\n",
       "      <td>Buffy #1</td>\n",
       "      <td>actor</td>\n",
       "      <td>Buffy 4</td>\n",
       "      <td>NaN</td>\n",
       "    </tr>\n",
       "    <tr>\n",
       "      <th>1</th>\n",
       "      <td>Suuri illusioni</td>\n",
       "      <td>1985</td>\n",
       "      <td>Homo $</td>\n",
       "      <td>actor</td>\n",
       "      <td>Guests</td>\n",
       "      <td>22.0</td>\n",
       "    </tr>\n",
       "    <tr>\n",
       "      <th>2</th>\n",
       "      <td>Battle of the Sexes</td>\n",
       "      <td>2017</td>\n",
       "      <td>$hutter</td>\n",
       "      <td>actor</td>\n",
       "      <td>Bobby Riggs Fan</td>\n",
       "      <td>10.0</td>\n",
       "    </tr>\n",
       "    <tr>\n",
       "      <th>3</th>\n",
       "      <td>Secret in Their Eyes</td>\n",
       "      <td>2015</td>\n",
       "      <td>$hutter</td>\n",
       "      <td>actor</td>\n",
       "      <td>2002 Dodger Fan</td>\n",
       "      <td>NaN</td>\n",
       "    </tr>\n",
       "    <tr>\n",
       "      <th>4</th>\n",
       "      <td>Steve Jobs</td>\n",
       "      <td>2015</td>\n",
       "      <td>$hutter</td>\n",
       "      <td>actor</td>\n",
       "      <td>1988 Opera House Patron</td>\n",
       "      <td>NaN</td>\n",
       "    </tr>\n",
       "    <tr>\n",
       "      <th>5</th>\n",
       "      <td>Straight Outta Compton</td>\n",
       "      <td>2015</td>\n",
       "      <td>$hutter</td>\n",
       "      <td>actor</td>\n",
       "      <td>Club Patron</td>\n",
       "      <td>NaN</td>\n",
       "    </tr>\n",
       "    <tr>\n",
       "      <th>6</th>\n",
       "      <td>Straight Outta Compton</td>\n",
       "      <td>2015</td>\n",
       "      <td>$hutter</td>\n",
       "      <td>actor</td>\n",
       "      <td>Dopeman</td>\n",
       "      <td>NaN</td>\n",
       "    </tr>\n",
       "    <tr>\n",
       "      <th>7</th>\n",
       "      <td>For Thy Love 2</td>\n",
       "      <td>2009</td>\n",
       "      <td>Bee Moe $lim</td>\n",
       "      <td>actor</td>\n",
       "      <td>Thug 1</td>\n",
       "      <td>NaN</td>\n",
       "    </tr>\n",
       "    <tr>\n",
       "      <th>8</th>\n",
       "      <td>Lapis, Ballpen at Diploma, a True to Life Journey</td>\n",
       "      <td>2014</td>\n",
       "      <td>Jori ' Danilo' Jurado Jr.</td>\n",
       "      <td>actor</td>\n",
       "      <td>Jaime (young)</td>\n",
       "      <td>9.0</td>\n",
       "    </tr>\n",
       "    <tr>\n",
       "      <th>9</th>\n",
       "      <td>Desire (III)</td>\n",
       "      <td>2014</td>\n",
       "      <td>Syaiful 'Ariffin</td>\n",
       "      <td>actor</td>\n",
       "      <td>Actor Playing Eteocles from 'Antigone'</td>\n",
       "      <td>NaN</td>\n",
       "    </tr>\n",
       "  </tbody>\n",
       "</table>\n",
       "</div>"
      ],
      "text/plain": [
       "                                               title  year  \\\n",
       "0                                     Closet Monster  2015   \n",
       "1                                    Suuri illusioni  1985   \n",
       "2                                Battle of the Sexes  2017   \n",
       "3                               Secret in Their Eyes  2015   \n",
       "4                                         Steve Jobs  2015   \n",
       "5                             Straight Outta Compton  2015   \n",
       "6                             Straight Outta Compton  2015   \n",
       "7                                     For Thy Love 2  2009   \n",
       "8  Lapis, Ballpen at Diploma, a True to Life Journey  2014   \n",
       "9                                       Desire (III)  2014   \n",
       "\n",
       "                        name   type                               character  \\\n",
       "0                   Buffy #1  actor                                 Buffy 4   \n",
       "1                     Homo $  actor                                  Guests   \n",
       "2                    $hutter  actor                         Bobby Riggs Fan   \n",
       "3                    $hutter  actor                         2002 Dodger Fan   \n",
       "4                    $hutter  actor                 1988 Opera House Patron   \n",
       "5                    $hutter  actor                             Club Patron   \n",
       "6                    $hutter  actor                                 Dopeman   \n",
       "7               Bee Moe $lim  actor                                  Thug 1   \n",
       "8  Jori ' Danilo' Jurado Jr.  actor                           Jaime (young)   \n",
       "9           Syaiful 'Ariffin  actor  Actor Playing Eteocles from 'Antigone'   \n",
       "\n",
       "      n  \n",
       "0   NaN  \n",
       "1  22.0  \n",
       "2  10.0  \n",
       "3   NaN  \n",
       "4   NaN  \n",
       "5   NaN  \n",
       "6   NaN  \n",
       "7   NaN  \n",
       "8   9.0  \n",
       "9   NaN  "
      ]
     },
     "execution_count": 36,
     "metadata": {},
     "output_type": "execute_result"
    }
   ],
   "source": [
    "data.head(10)"
   ]
  },
  {
   "cell_type": "markdown",
   "metadata": {
    "collapsed": true
   },
   "source": [
    "### How many movies are listed in the titles dataframe?"
   ]
  },
  {
   "cell_type": "code",
   "execution_count": 4,
   "metadata": {},
   "outputs": [
    {
     "name": "stdout",
     "output_type": "stream",
     "text": [
      "<class 'pandas.core.frame.DataFrame'>\n",
      "RangeIndex: 1048575 entries, 0 to 1048574\n",
      "Data columns (total 6 columns):\n",
      " #   Column     Non-Null Count    Dtype  \n",
      "---  ------     --------------    -----  \n",
      " 0   title      1048575 non-null  object \n",
      " 1   year       1048575 non-null  int64  \n",
      " 2   name       1048575 non-null  object \n",
      " 3   type       1048575 non-null  object \n",
      " 4   character  1048575 non-null  object \n",
      " 5   n          640649 non-null   float64\n",
      "dtypes: float64(1), int64(1), object(4)\n",
      "memory usage: 48.0+ MB\n"
     ]
    }
   ],
   "source": [
    "data.info()"
   ]
  },
  {
   "cell_type": "code",
   "execution_count": 37,
   "metadata": {},
   "outputs": [
    {
     "data": {
      "text/plain": [
       "Index(['title', 'year', 'name', 'type', 'character', 'n'], dtype='object')"
      ]
     },
     "execution_count": 37,
     "metadata": {},
     "output_type": "execute_result"
    }
   ],
   "source": [
    "data.columns"
   ]
  },
  {
   "cell_type": "code",
   "execution_count": 7,
   "metadata": {},
   "outputs": [
    {
     "data": {
      "text/plain": [
       "0                Closet Monster\n",
       "1               Suuri illusioni\n",
       "2           Battle of the Sexes\n",
       "3          Secret in Their Eyes\n",
       "4                    Steve Jobs\n",
       "                   ...         \n",
       "1048570                 Iza sna\n",
       "1048571      Snivaj, zlato moje\n",
       "1048572                  H-8...\n",
       "1048573              C.R.A.Z.Y.\n",
       "1048574          Piccoli fuochi\n",
       "Name: title, Length: 1048575, dtype: object"
      ]
     },
     "execution_count": 7,
     "metadata": {},
     "output_type": "execute_result"
    }
   ],
   "source": [
    "data.title"
   ]
  },
  {
   "cell_type": "code",
   "execution_count": 8,
   "metadata": {},
   "outputs": [
    {
     "data": {
      "text/plain": [
       "title        1048575\n",
       "year         1048575\n",
       "name         1048575\n",
       "type         1048575\n",
       "character    1048575\n",
       "n             640649\n",
       "dtype: int64"
      ]
     },
     "execution_count": 8,
     "metadata": {},
     "output_type": "execute_result"
    }
   ],
   "source": [
    "data.count() "
   ]
  },
  {
   "cell_type": "markdown",
   "metadata": {
    "collapsed": true
   },
   "source": [
    "### What are the earliest two films listed in the titles dataframe?"
   ]
  },
  {
   "cell_type": "code",
   "execution_count": 4,
   "metadata": {},
   "outputs": [
    {
     "data": {
      "text/html": [
       "<div>\n",
       "<style scoped>\n",
       "    .dataframe tbody tr th:only-of-type {\n",
       "        vertical-align: middle;\n",
       "    }\n",
       "\n",
       "    .dataframe tbody tr th {\n",
       "        vertical-align: top;\n",
       "    }\n",
       "\n",
       "    .dataframe thead th {\n",
       "        text-align: right;\n",
       "    }\n",
       "</style>\n",
       "<table border=\"1\" class=\"dataframe\">\n",
       "  <thead>\n",
       "    <tr style=\"text-align: right;\">\n",
       "      <th></th>\n",
       "      <th>title</th>\n",
       "      <th>year</th>\n",
       "      <th>name</th>\n",
       "      <th>type</th>\n",
       "      <th>character</th>\n",
       "      <th>n</th>\n",
       "    </tr>\n",
       "  </thead>\n",
       "  <tbody>\n",
       "    <tr>\n",
       "      <th>0</th>\n",
       "      <td>Closet Monster</td>\n",
       "      <td>2015</td>\n",
       "      <td>Buffy #1</td>\n",
       "      <td>actor</td>\n",
       "      <td>Buffy 4</td>\n",
       "      <td>NaN</td>\n",
       "    </tr>\n",
       "    <tr>\n",
       "      <th>1</th>\n",
       "      <td>Suuri illusioni</td>\n",
       "      <td>1985</td>\n",
       "      <td>Homo $</td>\n",
       "      <td>actor</td>\n",
       "      <td>Guests</td>\n",
       "      <td>22.0</td>\n",
       "    </tr>\n",
       "  </tbody>\n",
       "</table>\n",
       "</div>"
      ],
      "text/plain": [
       "             title  year      name   type character     n\n",
       "0   Closet Monster  2015  Buffy #1  actor   Buffy 4   NaN\n",
       "1  Suuri illusioni  1985    Homo $  actor    Guests  22.0"
      ]
     },
     "execution_count": 4,
     "metadata": {},
     "output_type": "execute_result"
    }
   ],
   "source": [
    "data.head(2)"
   ]
  },
  {
   "cell_type": "markdown",
   "metadata": {
    "collapsed": true
   },
   "source": [
    "### How many movies have the title \"Hamlet\"?"
   ]
  },
  {
   "cell_type": "code",
   "execution_count": 111,
   "metadata": {
    "collapsed": true
   },
   "outputs": [
    {
     "data": {
      "text/html": [
       "<div>\n",
       "<style scoped>\n",
       "    .dataframe tbody tr th:only-of-type {\n",
       "        vertical-align: middle;\n",
       "    }\n",
       "\n",
       "    .dataframe tbody tr th {\n",
       "        vertical-align: top;\n",
       "    }\n",
       "\n",
       "    .dataframe thead th {\n",
       "        text-align: right;\n",
       "    }\n",
       "</style>\n",
       "<table border=\"1\" class=\"dataframe\">\n",
       "  <thead>\n",
       "    <tr style=\"text-align: right;\">\n",
       "      <th></th>\n",
       "      <th>title</th>\n",
       "      <th>year</th>\n",
       "      <th>name</th>\n",
       "      <th>type</th>\n",
       "      <th>character</th>\n",
       "      <th>n</th>\n",
       "    </tr>\n",
       "  </thead>\n",
       "  <tbody>\n",
       "    <tr>\n",
       "      <th>1615</th>\n",
       "      <td>Hamlet</td>\n",
       "      <td>1996</td>\n",
       "      <td>Riz Abbasi</td>\n",
       "      <td>actor</td>\n",
       "      <td>Attendant to Claudius</td>\n",
       "      <td>1.0</td>\n",
       "    </tr>\n",
       "    <tr>\n",
       "      <th>4250</th>\n",
       "      <td>Royal Shakespeare Company: Hamlet</td>\n",
       "      <td>2016</td>\n",
       "      <td>Hiran Abeysekera</td>\n",
       "      <td>actor</td>\n",
       "      <td>Horatio</td>\n",
       "      <td>8.0</td>\n",
       "    </tr>\n",
       "    <tr>\n",
       "      <th>6421</th>\n",
       "      <td>Hamlet, Prince of Denmark</td>\n",
       "      <td>1997</td>\n",
       "      <td>Ernest Abuba</td>\n",
       "      <td>actor</td>\n",
       "      <td>The King</td>\n",
       "      <td>NaN</td>\n",
       "    </tr>\n",
       "    <tr>\n",
       "      <th>7438</th>\n",
       "      <td>Hamlet</td>\n",
       "      <td>1921</td>\n",
       "      <td>Fritz Achterberg</td>\n",
       "      <td>actor</td>\n",
       "      <td>Fortinbras,</td>\n",
       "      <td>9.0</td>\n",
       "    </tr>\n",
       "    <tr>\n",
       "      <th>11242</th>\n",
       "      <td>Hamlet</td>\n",
       "      <td>2009</td>\n",
       "      <td>Hayden Adams</td>\n",
       "      <td>actor</td>\n",
       "      <td>Laertes</td>\n",
       "      <td>7.0</td>\n",
       "    </tr>\n",
       "    <tr>\n",
       "      <th>...</th>\n",
       "      <td>...</td>\n",
       "      <td>...</td>\n",
       "      <td>...</td>\n",
       "      <td>...</td>\n",
       "      <td>...</td>\n",
       "      <td>...</td>\n",
       "    </tr>\n",
       "    <tr>\n",
       "      <th>1039896</th>\n",
       "      <td>Harry, Hamlet and I</td>\n",
       "      <td>2013</td>\n",
       "      <td>Philip J. Russell</td>\n",
       "      <td>actor</td>\n",
       "      <td>Dean</td>\n",
       "      <td>NaN</td>\n",
       "    </tr>\n",
       "    <tr>\n",
       "      <th>1041808</th>\n",
       "      <td>Zombie Hamlet</td>\n",
       "      <td>2012</td>\n",
       "      <td>Gildart Jackson</td>\n",
       "      <td>actor</td>\n",
       "      <td>Professor Reginald Wellington III</td>\n",
       "      <td>NaN</td>\n",
       "    </tr>\n",
       "    <tr>\n",
       "      <th>1041828</th>\n",
       "      <td>Hamlet</td>\n",
       "      <td>1969</td>\n",
       "      <td>Gordon Jackson</td>\n",
       "      <td>actor</td>\n",
       "      <td>Horatio</td>\n",
       "      <td>7.0</td>\n",
       "    </tr>\n",
       "    <tr>\n",
       "      <th>1042957</th>\n",
       "      <td>Zombie Hamlet</td>\n",
       "      <td>2012</td>\n",
       "      <td>Ryan H. Jackson</td>\n",
       "      <td>actor</td>\n",
       "      <td>Fortinbras</td>\n",
       "      <td>NaN</td>\n",
       "    </tr>\n",
       "    <tr>\n",
       "      <th>1044207</th>\n",
       "      <td>Hamlet</td>\n",
       "      <td>1996</td>\n",
       "      <td>Derek Jacobi</td>\n",
       "      <td>actor</td>\n",
       "      <td>Claudius</td>\n",
       "      <td>25.0</td>\n",
       "    </tr>\n",
       "  </tbody>\n",
       "</table>\n",
       "<p>312 rows × 6 columns</p>\n",
       "</div>"
      ],
      "text/plain": [
       "                                     title  year               name   type  \\\n",
       "1615                                Hamlet  1996         Riz Abbasi  actor   \n",
       "4250     Royal Shakespeare Company: Hamlet  2016   Hiran Abeysekera  actor   \n",
       "6421             Hamlet, Prince of Denmark  1997       Ernest Abuba  actor   \n",
       "7438                                Hamlet  1921   Fritz Achterberg  actor   \n",
       "11242                               Hamlet  2009       Hayden Adams  actor   \n",
       "...                                    ...   ...                ...    ...   \n",
       "1039896                Harry, Hamlet and I  2013  Philip J. Russell  actor   \n",
       "1041808                      Zombie Hamlet  2012    Gildart Jackson  actor   \n",
       "1041828                             Hamlet  1969     Gordon Jackson  actor   \n",
       "1042957                      Zombie Hamlet  2012    Ryan H. Jackson  actor   \n",
       "1044207                             Hamlet  1996       Derek Jacobi  actor   \n",
       "\n",
       "                                 character     n  \n",
       "1615                 Attendant to Claudius   1.0  \n",
       "4250                               Horatio   8.0  \n",
       "6421                              The King   NaN  \n",
       "7438                           Fortinbras,   9.0  \n",
       "11242                              Laertes   7.0  \n",
       "...                                    ...   ...  \n",
       "1039896                               Dean   NaN  \n",
       "1041808  Professor Reginald Wellington III   NaN  \n",
       "1041828                            Horatio   7.0  \n",
       "1042957                         Fortinbras   NaN  \n",
       "1044207                           Claudius  25.0  \n",
       "\n",
       "[312 rows x 6 columns]"
      ]
     },
     "execution_count": 111,
     "metadata": {},
     "output_type": "execute_result"
    }
   ],
   "source": [
    "data[data.title.str.contains('Hamlet')]"
   ]
  },
  {
   "cell_type": "code",
   "execution_count": 116,
   "metadata": {},
   "outputs": [
    {
     "data": {
      "text/plain": [
       "113"
      ]
     },
     "execution_count": 116,
     "metadata": {},
     "output_type": "execute_result"
    }
   ],
   "source": [
    "data['title'].value_counts()['Hamlet'] "
   ]
  },
  {
   "cell_type": "markdown",
   "metadata": {
    "collapsed": true
   },
   "source": [
    "### How many movies are titled \"North by Northwest\"?"
   ]
  },
  {
   "cell_type": "code",
   "execution_count": 6,
   "metadata": {
    "collapsed": true
   },
   "outputs": [
    {
     "data": {
      "text/html": [
       "<div>\n",
       "<style scoped>\n",
       "    .dataframe tbody tr th:only-of-type {\n",
       "        vertical-align: middle;\n",
       "    }\n",
       "\n",
       "    .dataframe tbody tr th {\n",
       "        vertical-align: top;\n",
       "    }\n",
       "\n",
       "    .dataframe thead th {\n",
       "        text-align: right;\n",
       "    }\n",
       "</style>\n",
       "<table border=\"1\" class=\"dataframe\">\n",
       "  <thead>\n",
       "    <tr style=\"text-align: right;\">\n",
       "      <th></th>\n",
       "      <th>title</th>\n",
       "      <th>year</th>\n",
       "      <th>name</th>\n",
       "      <th>type</th>\n",
       "      <th>character</th>\n",
       "      <th>n</th>\n",
       "    </tr>\n",
       "  </thead>\n",
       "  <tbody>\n",
       "    <tr>\n",
       "      <th>12151</th>\n",
       "      <td>North by Northwest</td>\n",
       "      <td>1959</td>\n",
       "      <td>Stanley Adams</td>\n",
       "      <td>actor</td>\n",
       "      <td>Lieutenant Harding</td>\n",
       "      <td>NaN</td>\n",
       "    </tr>\n",
       "    <tr>\n",
       "      <th>27852</th>\n",
       "      <td>North by Northwest</td>\n",
       "      <td>1959</td>\n",
       "      <td>Andy Albin</td>\n",
       "      <td>actor</td>\n",
       "      <td>Farmer</td>\n",
       "      <td>NaN</td>\n",
       "    </tr>\n",
       "    <tr>\n",
       "      <th>54093</th>\n",
       "      <td>North by Northwest</td>\n",
       "      <td>1959</td>\n",
       "      <td>Don Anderson</td>\n",
       "      <td>actor</td>\n",
       "      <td>Worker</td>\n",
       "      <td>NaN</td>\n",
       "    </tr>\n",
       "    <tr>\n",
       "      <th>54307</th>\n",
       "      <td>North by Northwest</td>\n",
       "      <td>1959</td>\n",
       "      <td>Ernest Anderson</td>\n",
       "      <td>actor</td>\n",
       "      <td>Porter on Twentieth Century Ltd.</td>\n",
       "      <td>NaN</td>\n",
       "    </tr>\n",
       "    <tr>\n",
       "      <th>92195</th>\n",
       "      <td>North by Northwest</td>\n",
       "      <td>1959</td>\n",
       "      <td>Malcolm Atterbury</td>\n",
       "      <td>actor</td>\n",
       "      <td>Man at Prairie Crossing</td>\n",
       "      <td>NaN</td>\n",
       "    </tr>\n",
       "    <tr>\n",
       "      <th>97833</th>\n",
       "      <td>North by Northwest</td>\n",
       "      <td>1959</td>\n",
       "      <td>Tol Avery</td>\n",
       "      <td>actor</td>\n",
       "      <td>State Police Detective</td>\n",
       "      <td>NaN</td>\n",
       "    </tr>\n",
       "    <tr>\n",
       "      <th>109025</th>\n",
       "      <td>North by Northwest</td>\n",
       "      <td>1959</td>\n",
       "      <td>Sam Bagley</td>\n",
       "      <td>actor</td>\n",
       "      <td>Courtroom Spectator</td>\n",
       "      <td>NaN</td>\n",
       "    </tr>\n",
       "    <tr>\n",
       "      <th>114334</th>\n",
       "      <td>North by Northwest</td>\n",
       "      <td>1959</td>\n",
       "      <td>Frank Baker</td>\n",
       "      <td>actor</td>\n",
       "      <td>Man at Auction</td>\n",
       "      <td>NaN</td>\n",
       "    </tr>\n",
       "    <tr>\n",
       "      <th>137656</th>\n",
       "      <td>North by Northwest</td>\n",
       "      <td>1959</td>\n",
       "      <td>Baynes Barron</td>\n",
       "      <td>actor</td>\n",
       "      <td>Taxi Driver #2</td>\n",
       "      <td>NaN</td>\n",
       "    </tr>\n",
       "    <tr>\n",
       "      <th>151717</th>\n",
       "      <td>North by Northwest</td>\n",
       "      <td>1959</td>\n",
       "      <td>Brandon Beach</td>\n",
       "      <td>actor</td>\n",
       "      <td>Man at Auction</td>\n",
       "      <td>NaN</td>\n",
       "    </tr>\n",
       "    <tr>\n",
       "      <th>176030</th>\n",
       "      <td>North by Northwest</td>\n",
       "      <td>1959</td>\n",
       "      <td>John Beradino</td>\n",
       "      <td>actor</td>\n",
       "      <td>Sergeant Emile Klinger</td>\n",
       "      <td>NaN</td>\n",
       "    </tr>\n",
       "    <tr>\n",
       "      <th>198496</th>\n",
       "      <td>North by Northwest</td>\n",
       "      <td>1959</td>\n",
       "      <td>Edward Binns</td>\n",
       "      <td>actor</td>\n",
       "      <td>Captain Junket</td>\n",
       "      <td>15.0</td>\n",
       "    </tr>\n",
       "    <tr>\n",
       "      <th>222299</th>\n",
       "      <td>North by Northwest</td>\n",
       "      <td>1959</td>\n",
       "      <td>Stephen Bolster</td>\n",
       "      <td>actor</td>\n",
       "      <td>Man with Camera</td>\n",
       "      <td>NaN</td>\n",
       "    </tr>\n",
       "    <tr>\n",
       "      <th>343701</th>\n",
       "      <td>North by Northwest</td>\n",
       "      <td>1959</td>\n",
       "      <td>Leo G. Carroll</td>\n",
       "      <td>actor</td>\n",
       "      <td>The Professor</td>\n",
       "      <td>5.0</td>\n",
       "    </tr>\n",
       "    <tr>\n",
       "      <th>344204</th>\n",
       "      <td>North by Northwest</td>\n",
       "      <td>1959</td>\n",
       "      <td>Steve Carruthers</td>\n",
       "      <td>actor</td>\n",
       "      <td>Man at Auction</td>\n",
       "      <td>NaN</td>\n",
       "    </tr>\n",
       "    <tr>\n",
       "      <th>350192</th>\n",
       "      <td>North by Northwest</td>\n",
       "      <td>1959</td>\n",
       "      <td>Taggart Casey</td>\n",
       "      <td>actor</td>\n",
       "      <td>Shaving Man</td>\n",
       "      <td>NaN</td>\n",
       "    </tr>\n",
       "    <tr>\n",
       "      <th>356803</th>\n",
       "      <td>North by Northwest</td>\n",
       "      <td>1959</td>\n",
       "      <td>Bill Catching</td>\n",
       "      <td>actor</td>\n",
       "      <td>Auction Attendant</td>\n",
       "      <td>NaN</td>\n",
       "    </tr>\n",
       "    <tr>\n",
       "      <th>424676</th>\n",
       "      <td>North by Northwest</td>\n",
       "      <td>1959</td>\n",
       "      <td>Bob (II) Coe</td>\n",
       "      <td>actor</td>\n",
       "      <td>Cropduster Pilot</td>\n",
       "      <td>NaN</td>\n",
       "    </tr>\n",
       "    <tr>\n",
       "      <th>447893</th>\n",
       "      <td>North by Northwest</td>\n",
       "      <td>1959</td>\n",
       "      <td>Philip Coolidge</td>\n",
       "      <td>actor</td>\n",
       "      <td>Dr. Cross</td>\n",
       "      <td>13.0</td>\n",
       "    </tr>\n",
       "    <tr>\n",
       "      <th>467714</th>\n",
       "      <td>North by Northwest</td>\n",
       "      <td>1959</td>\n",
       "      <td>David A. Cox</td>\n",
       "      <td>actor</td>\n",
       "      <td>Police Officer on Horse</td>\n",
       "      <td>NaN</td>\n",
       "    </tr>\n",
       "    <tr>\n",
       "      <th>468709</th>\n",
       "      <td>North by Northwest</td>\n",
       "      <td>1959</td>\n",
       "      <td>Walter Coy</td>\n",
       "      <td>actor</td>\n",
       "      <td>U.S. Intelligence Agency Official</td>\n",
       "      <td>NaN</td>\n",
       "    </tr>\n",
       "    <tr>\n",
       "      <th>479498</th>\n",
       "      <td>North by Northwest</td>\n",
       "      <td>1959</td>\n",
       "      <td>Jimmy Cross</td>\n",
       "      <td>actor</td>\n",
       "      <td>Taxi Driver #1</td>\n",
       "      <td>NaN</td>\n",
       "    </tr>\n",
       "    <tr>\n",
       "      <th>502759</th>\n",
       "      <td>North by Northwest</td>\n",
       "      <td>1959</td>\n",
       "      <td>Jack Daly</td>\n",
       "      <td>actor</td>\n",
       "      <td>Train Steward</td>\n",
       "      <td>NaN</td>\n",
       "    </tr>\n",
       "    <tr>\n",
       "      <th>503758</th>\n",
       "      <td>North by Northwest</td>\n",
       "      <td>1959</td>\n",
       "      <td>John Damler</td>\n",
       "      <td>actor</td>\n",
       "      <td>Police Lieutenant</td>\n",
       "      <td>NaN</td>\n",
       "    </tr>\n",
       "    <tr>\n",
       "      <th>581619</th>\n",
       "      <td>North by Northwest</td>\n",
       "      <td>1959</td>\n",
       "      <td>Lawrence Dobkin</td>\n",
       "      <td>actor</td>\n",
       "      <td>U.S. Intelligence Agency Official</td>\n",
       "      <td>NaN</td>\n",
       "    </tr>\n",
       "    <tr>\n",
       "      <th>605839</th>\n",
       "      <td>North by Northwest</td>\n",
       "      <td>1959</td>\n",
       "      <td>Alphonso DuBois</td>\n",
       "      <td>actor</td>\n",
       "      <td>Man at United Nations Building</td>\n",
       "      <td>NaN</td>\n",
       "    </tr>\n",
       "    <tr>\n",
       "      <th>642085</th>\n",
       "      <td>North by Northwest</td>\n",
       "      <td>1959</td>\n",
       "      <td>Robert Ellenstein</td>\n",
       "      <td>actor</td>\n",
       "      <td>Licht</td>\n",
       "      <td>11.0</td>\n",
       "    </tr>\n",
       "    <tr>\n",
       "      <th>679471</th>\n",
       "      <td>North by Northwest</td>\n",
       "      <td>1959</td>\n",
       "      <td>Tommy Farrell</td>\n",
       "      <td>actor</td>\n",
       "      <td>Eddie - Elevator Starter</td>\n",
       "      <td>NaN</td>\n",
       "    </tr>\n",
       "    <tr>\n",
       "      <th>682655</th>\n",
       "      <td>North by Northwest</td>\n",
       "      <td>1959</td>\n",
       "      <td>Adolph Faylauer</td>\n",
       "      <td>actor</td>\n",
       "      <td>Bald Bidder</td>\n",
       "      <td>NaN</td>\n",
       "    </tr>\n",
       "    <tr>\n",
       "      <th>786648</th>\n",
       "      <td>North by Northwest</td>\n",
       "      <td>1959</td>\n",
       "      <td>Paul Genge</td>\n",
       "      <td>actor</td>\n",
       "      <td>Lieutenant Hagerman</td>\n",
       "      <td>NaN</td>\n",
       "    </tr>\n",
       "    <tr>\n",
       "      <th>808703</th>\n",
       "      <td>North by Northwest</td>\n",
       "      <td>1959</td>\n",
       "      <td>Ned Glass</td>\n",
       "      <td>actor</td>\n",
       "      <td>Ticket Seller</td>\n",
       "      <td>NaN</td>\n",
       "    </tr>\n",
       "    <tr>\n",
       "      <th>821927</th>\n",
       "      <td>North by Northwest</td>\n",
       "      <td>1959</td>\n",
       "      <td>James Gonzalez</td>\n",
       "      <td>actor</td>\n",
       "      <td>Man at Auction</td>\n",
       "      <td>NaN</td>\n",
       "    </tr>\n",
       "    <tr>\n",
       "      <th>840374</th>\n",
       "      <td>North by Northwest</td>\n",
       "      <td>1959</td>\n",
       "      <td>Cary Grant</td>\n",
       "      <td>actor</td>\n",
       "      <td>Roger O. Thornhill</td>\n",
       "      <td>1.0</td>\n",
       "    </tr>\n",
       "    <tr>\n",
       "      <th>849881</th>\n",
       "      <td>North by Northwest</td>\n",
       "      <td>1959</td>\n",
       "      <td>Tom Greenway</td>\n",
       "      <td>actor</td>\n",
       "      <td>Silent State Police Detective</td>\n",
       "      <td>NaN</td>\n",
       "    </tr>\n",
       "    <tr>\n",
       "      <th>884907</th>\n",
       "      <td>North by Northwest</td>\n",
       "      <td>1959</td>\n",
       "      <td>Robert Haines</td>\n",
       "      <td>actor</td>\n",
       "      <td>Man at United Nations Building</td>\n",
       "      <td>NaN</td>\n",
       "    </tr>\n",
       "    <tr>\n",
       "      <th>891171</th>\n",
       "      <td>North by Northwest</td>\n",
       "      <td>1959</td>\n",
       "      <td>Stuart Hall</td>\n",
       "      <td>actor</td>\n",
       "      <td>Train Passenger</td>\n",
       "      <td>NaN</td>\n",
       "    </tr>\n",
       "    <tr>\n",
       "      <th>944454</th>\n",
       "      <td>North by Northwest</td>\n",
       "      <td>1959</td>\n",
       "      <td>Len Hendry</td>\n",
       "      <td>actor</td>\n",
       "      <td>Police Lieutenant</td>\n",
       "      <td>NaN</td>\n",
       "    </tr>\n",
       "    <tr>\n",
       "      <th>969404</th>\n",
       "      <td>North by Northwest</td>\n",
       "      <td>1959</td>\n",
       "      <td>Alfred Hitchcock</td>\n",
       "      <td>actor</td>\n",
       "      <td>Man Who Misses Bus</td>\n",
       "      <td>NaN</td>\n",
       "    </tr>\n",
       "    <tr>\n",
       "      <th>982746</th>\n",
       "      <td>North by Northwest</td>\n",
       "      <td>1959</td>\n",
       "      <td>Stuart Holmes</td>\n",
       "      <td>actor</td>\n",
       "      <td>Hotel Lounge Patron</td>\n",
       "      <td>NaN</td>\n",
       "    </tr>\n",
       "    <tr>\n",
       "      <th>1026719</th>\n",
       "      <td>North by Northwest</td>\n",
       "      <td>1959</td>\n",
       "      <td>Hideo Inamura</td>\n",
       "      <td>actor</td>\n",
       "      <td>Man at United Nations Building</td>\n",
       "      <td>NaN</td>\n",
       "    </tr>\n",
       "    <tr>\n",
       "      <th>1041665</th>\n",
       "      <td>North by Northwest</td>\n",
       "      <td>1959</td>\n",
       "      <td>Eugene Jackson</td>\n",
       "      <td>actor</td>\n",
       "      <td>Security Guard at Auction</td>\n",
       "      <td>NaN</td>\n",
       "    </tr>\n",
       "  </tbody>\n",
       "</table>\n",
       "</div>"
      ],
      "text/plain": [
       "                      title  year               name   type  \\\n",
       "12151    North by Northwest  1959      Stanley Adams  actor   \n",
       "27852    North by Northwest  1959         Andy Albin  actor   \n",
       "54093    North by Northwest  1959       Don Anderson  actor   \n",
       "54307    North by Northwest  1959    Ernest Anderson  actor   \n",
       "92195    North by Northwest  1959  Malcolm Atterbury  actor   \n",
       "97833    North by Northwest  1959          Tol Avery  actor   \n",
       "109025   North by Northwest  1959         Sam Bagley  actor   \n",
       "114334   North by Northwest  1959        Frank Baker  actor   \n",
       "137656   North by Northwest  1959      Baynes Barron  actor   \n",
       "151717   North by Northwest  1959      Brandon Beach  actor   \n",
       "176030   North by Northwest  1959      John Beradino  actor   \n",
       "198496   North by Northwest  1959       Edward Binns  actor   \n",
       "222299   North by Northwest  1959    Stephen Bolster  actor   \n",
       "343701   North by Northwest  1959     Leo G. Carroll  actor   \n",
       "344204   North by Northwest  1959   Steve Carruthers  actor   \n",
       "350192   North by Northwest  1959      Taggart Casey  actor   \n",
       "356803   North by Northwest  1959      Bill Catching  actor   \n",
       "424676   North by Northwest  1959       Bob (II) Coe  actor   \n",
       "447893   North by Northwest  1959    Philip Coolidge  actor   \n",
       "467714   North by Northwest  1959       David A. Cox  actor   \n",
       "468709   North by Northwest  1959         Walter Coy  actor   \n",
       "479498   North by Northwest  1959        Jimmy Cross  actor   \n",
       "502759   North by Northwest  1959          Jack Daly  actor   \n",
       "503758   North by Northwest  1959        John Damler  actor   \n",
       "581619   North by Northwest  1959    Lawrence Dobkin  actor   \n",
       "605839   North by Northwest  1959    Alphonso DuBois  actor   \n",
       "642085   North by Northwest  1959  Robert Ellenstein  actor   \n",
       "679471   North by Northwest  1959      Tommy Farrell  actor   \n",
       "682655   North by Northwest  1959    Adolph Faylauer  actor   \n",
       "786648   North by Northwest  1959         Paul Genge  actor   \n",
       "808703   North by Northwest  1959          Ned Glass  actor   \n",
       "821927   North by Northwest  1959     James Gonzalez  actor   \n",
       "840374   North by Northwest  1959         Cary Grant  actor   \n",
       "849881   North by Northwest  1959       Tom Greenway  actor   \n",
       "884907   North by Northwest  1959      Robert Haines  actor   \n",
       "891171   North by Northwest  1959        Stuart Hall  actor   \n",
       "944454   North by Northwest  1959         Len Hendry  actor   \n",
       "969404   North by Northwest  1959   Alfred Hitchcock  actor   \n",
       "982746   North by Northwest  1959      Stuart Holmes  actor   \n",
       "1026719  North by Northwest  1959      Hideo Inamura  actor   \n",
       "1041665  North by Northwest  1959     Eugene Jackson  actor   \n",
       "\n",
       "                                 character     n  \n",
       "12151                   Lieutenant Harding   NaN  \n",
       "27852                               Farmer   NaN  \n",
       "54093                               Worker   NaN  \n",
       "54307     Porter on Twentieth Century Ltd.   NaN  \n",
       "92195              Man at Prairie Crossing   NaN  \n",
       "97833               State Police Detective   NaN  \n",
       "109025                 Courtroom Spectator   NaN  \n",
       "114334                      Man at Auction   NaN  \n",
       "137656                      Taxi Driver #2   NaN  \n",
       "151717                      Man at Auction   NaN  \n",
       "176030              Sergeant Emile Klinger   NaN  \n",
       "198496                      Captain Junket  15.0  \n",
       "222299                     Man with Camera   NaN  \n",
       "343701                       The Professor   5.0  \n",
       "344204                      Man at Auction   NaN  \n",
       "350192                         Shaving Man   NaN  \n",
       "356803                   Auction Attendant   NaN  \n",
       "424676                    Cropduster Pilot   NaN  \n",
       "447893                           Dr. Cross  13.0  \n",
       "467714             Police Officer on Horse   NaN  \n",
       "468709   U.S. Intelligence Agency Official   NaN  \n",
       "479498                      Taxi Driver #1   NaN  \n",
       "502759                       Train Steward   NaN  \n",
       "503758                   Police Lieutenant   NaN  \n",
       "581619   U.S. Intelligence Agency Official   NaN  \n",
       "605839      Man at United Nations Building   NaN  \n",
       "642085                               Licht  11.0  \n",
       "679471            Eddie - Elevator Starter   NaN  \n",
       "682655                         Bald Bidder   NaN  \n",
       "786648                 Lieutenant Hagerman   NaN  \n",
       "808703                       Ticket Seller   NaN  \n",
       "821927                      Man at Auction   NaN  \n",
       "840374                  Roger O. Thornhill   1.0  \n",
       "849881       Silent State Police Detective   NaN  \n",
       "884907      Man at United Nations Building   NaN  \n",
       "891171                     Train Passenger   NaN  \n",
       "944454                   Police Lieutenant   NaN  \n",
       "969404                  Man Who Misses Bus   NaN  \n",
       "982746                 Hotel Lounge Patron   NaN  \n",
       "1026719     Man at United Nations Building   NaN  \n",
       "1041665          Security Guard at Auction   NaN  "
      ]
     },
     "execution_count": 6,
     "metadata": {},
     "output_type": "execute_result"
    }
   ],
   "source": [
    "data[data.title.str.contains('North by Northwest')]"
   ]
  },
  {
   "cell_type": "code",
   "execution_count": 115,
   "metadata": {},
   "outputs": [
    {
     "data": {
      "text/plain": [
       "41"
      ]
     },
     "execution_count": 115,
     "metadata": {},
     "output_type": "execute_result"
    }
   ],
   "source": [
    "data['title'].value_counts()['North by Northwest'] "
   ]
  },
  {
   "cell_type": "markdown",
   "metadata": {
    "collapsed": true
   },
   "source": [
    "### When was the first movie titled \"Hamlet\" made?"
   ]
  },
  {
   "cell_type": "code",
   "execution_count": 5,
   "metadata": {},
   "outputs": [
    {
     "name": "stdout",
     "output_type": "stream",
     "text": [
      "          title  year              name   type              character     n\n",
      "1615     Hamlet  1996        Riz Abbasi  actor  Attendant to Claudius   1.0\n",
      "7438     Hamlet  1921  Fritz Achterberg  actor            Fortinbras,   9.0\n",
      "11242    Hamlet  2009      Hayden Adams  actor                Laertes   7.0\n",
      "11243    Hamlet  2009      Hayden Adams  actor                 Player   7.0\n",
      "13907    Hamlet  1913       Eric Adeney  actor               Reynaldo  14.0\n",
      "...         ...   ...               ...    ...                    ...   ...\n",
      "1013423  Hamlet  2009  Matt (II) Hurley  actor                  Osric  10.0\n",
      "1013424  Hamlet  2009  Matt (II) Hurley  actor           Guildenstern  10.0\n",
      "1037016  Hamlet  1996     Ravil Isyanov  actor              Cornelius  24.0\n",
      "1041828  Hamlet  1969    Gordon Jackson  actor                Horatio   7.0\n",
      "1044207  Hamlet  1996      Derek Jacobi  actor               Claudius  25.0\n",
      "\n",
      "[113 rows x 6 columns]\n"
     ]
    }
   ],
   "source": [
    "#data[\"year\"]\n",
    "Hamlet_data= data[data[\"title\"]=='Hamlet']\n",
    "print(Hamlet_data)"
   ]
  },
  {
   "cell_type": "code",
   "execution_count": 8,
   "metadata": {},
   "outputs": [],
   "source": [
    "Hamlet=data[data['title'].str.contains('Hamlet')]"
   ]
  },
  {
   "cell_type": "code",
   "execution_count": 9,
   "metadata": {
    "collapsed": true
   },
   "outputs": [
    {
     "name": "stdout",
     "output_type": "stream",
     "text": [
      "                                    title  year              name   type  \\\n",
      "954648                             Hamlet  1911       Aage Hertel  actor   \n",
      "132982                             Hamlet  1913       J.H. Barnes  actor   \n",
      "174961                             Hamlet  1913   Grendon Bentley  actor   \n",
      "447543                             Hamlet  1913      S.A. Cookson  actor   \n",
      "930908                             Hamlet  1913      George Hayes  actor   \n",
      "...                                   ...   ...               ...    ...   \n",
      "392107                      Hamlet Frezer  2016       Chico Chico  actor   \n",
      "855814  Royal Shakespeare Company: Hamlet  2016  Marcus Griffiths  actor   \n",
      "58977   Royal Shakespeare Company: Hamlet  2016   Romayne Andrews  actor   \n",
      "727873                      Hamlet Frezer  2016     Bayoumi Fouad  actor   \n",
      "152897                        Hamlet (IV)  2016          Taz Bear  actor   \n",
      "\n",
      "               character     n  \n",
      "954648          Claudius   2.0  \n",
      "132982          Polonius   4.0  \n",
      "174961        Fortinbras   7.0  \n",
      "447543           Horatio   3.0  \n",
      "930908             Osric  10.0  \n",
      "...                  ...   ...  \n",
      "392107  Madih El Balbosy   2.0  \n",
      "855814           Laertes   6.0  \n",
      "58977              Osric  11.0  \n",
      "727873             Sobhy   3.0  \n",
      "152897       Royal Hound   NaN  \n",
      "\n",
      "[312 rows x 6 columns]\n"
     ]
    }
   ],
   "source": [
    "sorted_Hamlet=Hamlet.sort_values('year')\n",
    "print(sorted_Hamlet)"
   ]
  },
  {
   "cell_type": "code",
   "execution_count": 114,
   "metadata": {},
   "outputs": [
    {
     "name": "stdout",
     "output_type": "stream",
     "text": [
      "the first\"Hamlet\" movie was made in 1911\n"
     ]
    }
   ],
   "source": [
    "first_Hamlet_year=sorted_Hamlet['year'].iloc[0]\n",
    "print(f'the first\"Hamlet\" movie was made in {first_Hamlet_year}')"
   ]
  },
  {
   "cell_type": "markdown",
   "metadata": {
    "collapsed": true
   },
   "source": [
    "### List all of the \"Treasure Island\" movies from earliest to most recent."
   ]
  },
  {
   "cell_type": "code",
   "execution_count": 116,
   "metadata": {
    "collapsed": true
   },
   "outputs": [
    {
     "data": {
      "text/html": [
       "<div>\n",
       "<style scoped>\n",
       "    .dataframe tbody tr th:only-of-type {\n",
       "        vertical-align: middle;\n",
       "    }\n",
       "\n",
       "    .dataframe tbody tr th {\n",
       "        vertical-align: top;\n",
       "    }\n",
       "\n",
       "    .dataframe thead th {\n",
       "        text-align: right;\n",
       "    }\n",
       "</style>\n",
       "<table border=\"1\" class=\"dataframe\">\n",
       "  <thead>\n",
       "    <tr style=\"text-align: right;\">\n",
       "      <th></th>\n",
       "      <th>title</th>\n",
       "      <th>year</th>\n",
       "      <th>name</th>\n",
       "      <th>type</th>\n",
       "      <th>character</th>\n",
       "      <th>n</th>\n",
       "    </tr>\n",
       "  </thead>\n",
       "  <tbody>\n",
       "    <tr>\n",
       "      <th>9432</th>\n",
       "      <td>Treasure Island</td>\n",
       "      <td>1934</td>\n",
       "      <td>Robert Adair</td>\n",
       "      <td>actor</td>\n",
       "      <td>Tom - Seaman</td>\n",
       "      <td>NaN</td>\n",
       "    </tr>\n",
       "    <tr>\n",
       "      <th>13253</th>\n",
       "      <td>Treasure Island</td>\n",
       "      <td>1950</td>\n",
       "      <td>Chris Adcock</td>\n",
       "      <td>actor</td>\n",
       "      <td>Pike</td>\n",
       "      <td>26.0</td>\n",
       "    </tr>\n",
       "    <tr>\n",
       "      <th>16246</th>\n",
       "      <td>Treasure Island</td>\n",
       "      <td>1985</td>\n",
       "      <td>Yves Afonso</td>\n",
       "      <td>actor</td>\n",
       "      <td>French captain</td>\n",
       "      <td>8.0</td>\n",
       "    </tr>\n",
       "    <tr>\n",
       "      <th>42039</th>\n",
       "      <td>Treasure Island</td>\n",
       "      <td>1972</td>\n",
       "      <td>Cristino Almod?var</td>\n",
       "      <td>actor</td>\n",
       "      <td>O'Brien</td>\n",
       "      <td>16.0</td>\n",
       "    </tr>\n",
       "    <tr>\n",
       "      <th>55071</th>\n",
       "      <td>Treasure Island</td>\n",
       "      <td>1934</td>\n",
       "      <td>John (XII) Anderson</td>\n",
       "      <td>actor</td>\n",
       "      <td>Pirate of the Spanish Main</td>\n",
       "      <td>18.0</td>\n",
       "    </tr>\n",
       "    <tr>\n",
       "      <th>...</th>\n",
       "      <td>...</td>\n",
       "      <td>...</td>\n",
       "      <td>...</td>\n",
       "      <td>...</td>\n",
       "      <td>...</td>\n",
       "      <td>...</td>\n",
       "    </tr>\n",
       "    <tr>\n",
       "      <th>977651</th>\n",
       "      <td>Treasure Island</td>\n",
       "      <td>1920</td>\n",
       "      <td>Harry Holden</td>\n",
       "      <td>actor</td>\n",
       "      <td>Capt. Smollett</td>\n",
       "      <td>9.0</td>\n",
       "    </tr>\n",
       "    <tr>\n",
       "      <th>999455</th>\n",
       "      <td>Treasure Island</td>\n",
       "      <td>1934</td>\n",
       "      <td>Olin Howland</td>\n",
       "      <td>actor</td>\n",
       "      <td>Pirate of the Spanish Main</td>\n",
       "      <td>13.0</td>\n",
       "    </tr>\n",
       "    <tr>\n",
       "      <th>1033710</th>\n",
       "      <td>Treasure Island</td>\n",
       "      <td>1934</td>\n",
       "      <td>Charles Irwin</td>\n",
       "      <td>actor</td>\n",
       "      <td>Pirate of the Spanish Main</td>\n",
       "      <td>14.0</td>\n",
       "    </tr>\n",
       "    <tr>\n",
       "      <th>1036658</th>\n",
       "      <td>Treasure Island</td>\n",
       "      <td>1972</td>\n",
       "      <td>V?ctor Israel</td>\n",
       "      <td>actor</td>\n",
       "      <td>Morgan</td>\n",
       "      <td>14.0</td>\n",
       "    </tr>\n",
       "    <tr>\n",
       "      <th>1040574</th>\n",
       "      <td>Treasure Island</td>\n",
       "      <td>1950</td>\n",
       "      <td>Stephen Jack</td>\n",
       "      <td>actor</td>\n",
       "      <td>Job</td>\n",
       "      <td>19.0</td>\n",
       "    </tr>\n",
       "  </tbody>\n",
       "</table>\n",
       "<p>81 rows × 6 columns</p>\n",
       "</div>"
      ],
      "text/plain": [
       "                   title  year                 name   type  \\\n",
       "9432     Treasure Island  1934         Robert Adair  actor   \n",
       "13253    Treasure Island  1950         Chris Adcock  actor   \n",
       "16246    Treasure Island  1985          Yves Afonso  actor   \n",
       "42039    Treasure Island  1972   Cristino Almod?var  actor   \n",
       "55071    Treasure Island  1934  John (XII) Anderson  actor   \n",
       "...                  ...   ...                  ...    ...   \n",
       "977651   Treasure Island  1920         Harry Holden  actor   \n",
       "999455   Treasure Island  1934         Olin Howland  actor   \n",
       "1033710  Treasure Island  1934        Charles Irwin  actor   \n",
       "1036658  Treasure Island  1972        V?ctor Israel  actor   \n",
       "1040574  Treasure Island  1950         Stephen Jack  actor   \n",
       "\n",
       "                          character     n  \n",
       "9432                   Tom - Seaman   NaN  \n",
       "13253                          Pike  26.0  \n",
       "16246                French captain   8.0  \n",
       "42039                       O'Brien  16.0  \n",
       "55071    Pirate of the Spanish Main  18.0  \n",
       "...                             ...   ...  \n",
       "977651               Capt. Smollett   9.0  \n",
       "999455   Pirate of the Spanish Main  13.0  \n",
       "1033710  Pirate of the Spanish Main  14.0  \n",
       "1036658                      Morgan  14.0  \n",
       "1040574                         Job  19.0  \n",
       "\n",
       "[81 rows x 6 columns]"
      ]
     },
     "execution_count": 116,
     "metadata": {},
     "output_type": "execute_result"
    }
   ],
   "source": [
    "data.loc[data['title']=='Treasure Island']"
   ]
  },
  {
   "cell_type": "code",
   "execution_count": 100,
   "metadata": {},
   "outputs": [
    {
     "name": "stdout",
     "output_type": "stream",
     "text": [
      "                                         title  year\n",
      "840745                         Treasure Island  1918\n",
      "339256                         Treasure Island  1918\n",
      "909157                         Treasure Island  1918\n",
      "830114                         Treasure Island  1918\n",
      "537825                         Treasure Island  1920\n",
      "...                                        ...   ...\n",
      "199140  National Theatre Live: Treasure Island  2015\n",
      "511053  National Theatre Live: Treasure Island  2015\n",
      "448109  National Theatre Live: Treasure Island  2015\n",
      "712520  National Theatre Live: Treasure Island  2015\n",
      "112778  National Theatre Live: Treasure Island  2015\n",
      "\n",
      "[209 rows x 2 columns]\n"
     ]
    }
   ],
   "source": [
    "sorted_Treasure_Island = Treasure_Island.sort_values('year',ascending= True)\n",
    "print(sorted_Treasure_Island[['title','year']])"
   ]
  },
  {
   "cell_type": "markdown",
   "metadata": {
    "collapsed": true
   },
   "source": [
    "### How many movies were made in the year 1950?"
   ]
  },
  {
   "cell_type": "code",
   "execution_count": 10,
   "metadata": {},
   "outputs": [],
   "source": [
    "#data[\"year\"]\n",
    "movies_1950=data[data['year']==1950]"
   ]
  },
  {
   "cell_type": "code",
   "execution_count": 119,
   "metadata": {
    "collapsed": true
   },
   "outputs": [
    {
     "name": "stdout",
     "output_type": "stream",
     "text": [
      "                             title  year\n",
      "266               Palletoori Pilla  1950\n",
      "429                   Hallin Janne  1950\n",
      "430                   Hallin Janne  1950\n",
      "1481     Fortunes of Captain Blood  1950\n",
      "1497          The Baron of Arizona  1950\n",
      "...                            ...   ...\n",
      "1046679         The Asphalt Jungle  1950\n",
      "1047478                  Dark City  1950\n",
      "1047512                     Sierra  1950\n",
      "1047937         Medan staden sover  1950\n",
      "1047951          In a Lonely Place  1950\n",
      "\n",
      "[7389 rows x 2 columns]\n"
     ]
    }
   ],
   "source": [
    "print(movies_1950[['title','year']])"
   ]
  },
  {
   "cell_type": "markdown",
   "metadata": {
    "collapsed": true
   },
   "source": [
    "### How many movies were made in the year 1960?"
   ]
  },
  {
   "cell_type": "code",
   "execution_count": 122,
   "metadata": {
    "collapsed": true
   },
   "outputs": [
    {
     "name": "stdout",
     "output_type": "stream",
     "text": [
      "                              title  year\n",
      "68                     De zaak M.P.  1960\n",
      "115             Thunder in Carolina  1960\n",
      "133                        Noi duri  1960\n",
      "265      Sri Venkateswara Mahatmyam  1960\n",
      "268      Sri Venkateswara Mahatmyam  1960\n",
      "...                             ...   ...\n",
      "1047649              Hum Hindustani  1960\n",
      "1047842        Fabrik der Offiziere  1960\n",
      "1048239      Return of Mr. Superman  1960\n",
      "1048240      Return of Mr. Superman  1960\n",
      "1048549                  Tava laime  1960\n",
      "\n",
      "[5608 rows x 2 columns]\n"
     ]
    }
   ],
   "source": [
    "movies_1960=data[data['year']==1960]\n",
    "print(movies_1960[['title','year']])"
   ]
  },
  {
   "cell_type": "markdown",
   "metadata": {
    "collapsed": true
   },
   "source": [
    "### How many movies were made from 1950 through 1959?"
   ]
  },
  {
   "cell_type": "code",
   "execution_count": 124,
   "metadata": {},
   "outputs": [],
   "source": [
    "movies_1950=data[(data['year']>=1950) & (data['year']<=1959)]"
   ]
  },
  {
   "cell_type": "code",
   "execution_count": 126,
   "metadata": {},
   "outputs": [
    {
     "name": "stdout",
     "output_type": "stream",
     "text": [
      "the number of the movie is:67706\n"
     ]
    }
   ],
   "source": [
    "print(f'the number of the movie is:{len(movies_1950)}')"
   ]
  },
  {
   "cell_type": "markdown",
   "metadata": {
    "collapsed": true
   },
   "source": [
    "### In what years has a movie titled \"Batman\" been released?"
   ]
  },
  {
   "cell_type": "code",
   "execution_count": 136,
   "metadata": {},
   "outputs": [],
   "source": [
    "Batman_movies=data[data['title'].str.contains('Batman')]"
   ]
  },
  {
   "cell_type": "code",
   "execution_count": 137,
   "metadata": {
    "collapsed": true
   },
   "outputs": [
    {
     "name": "stdout",
     "output_type": "stream",
     "text": [
      "                                      title  year\n",
      "1026                  Batman Fights Dracula  1967\n",
      "1027                  Batman Fights Dracula  1967\n",
      "4281     Batman v Superman: Dawn of Justice  2016\n",
      "11311    Batman v Superman: Dawn of Justice  2016\n",
      "14827                     Batman: The Movie  1966\n",
      "...                                     ...   ...\n",
      "1032359  Batman v Superman: Dawn of Justice  2016\n",
      "1037237                      Batman & Robin  1997\n",
      "1041165  Batman v Superman: Dawn of Justice  2016\n",
      "1043808                      Batman Forever  1995\n",
      "1043887                              Batman  1943\n",
      "\n",
      "[421 rows x 2 columns]\n"
     ]
    }
   ],
   "source": [
    "print(Batman_movies[['title','year']])"
   ]
  },
  {
   "cell_type": "markdown",
   "metadata": {
    "collapsed": true
   },
   "source": [
    "### How many roles in the movie \"Inception\" are NOT ranked by an \"n\" value?"
   ]
  },
  {
   "cell_type": "code",
   "execution_count": 11,
   "metadata": {},
   "outputs": [
    {
     "data": {
      "text/plain": [
       "Index(['title', 'year', 'name', 'type', 'character', 'n'], dtype='object')"
      ]
     },
     "execution_count": 11,
     "metadata": {},
     "output_type": "execute_result"
    }
   ],
   "source": [
    "data.columns"
   ]
  },
  {
   "cell_type": "code",
   "execution_count": 6,
   "metadata": {},
   "outputs": [],
   "source": [
    "n_column='n'\n",
    "title_column='title'"
   ]
  },
  {
   "cell_type": "code",
   "execution_count": 7,
   "metadata": {
    "collapsed": true
   },
   "outputs": [
    {
     "name": "stdout",
     "output_type": "stream",
     "text": [
      "                                                    title  year  \\\n",
      "56138   Fraud in the Inception: Who killed Robert Haml...  2013   \n",
      "94333                                           Inception  2010   \n",
      "143138                                          Inception  2010   \n",
      "176819                                          Inception  2010   \n",
      "190249                                          Inception  2010   \n",
      "250191                                          Inception  2010   \n",
      "314663                                          Inception  2010   \n",
      "321091                                          Inception  2010   \n",
      "361119                                          Inception  2010   \n",
      "417982                                          Inception  2010   \n",
      "428199                                          Inception  2010   \n",
      "498708                                          Inception  2010   \n",
      "569504                                          Inception  2010   \n",
      "659835                                          Inception  2010   \n",
      "666157                                          Inception  2010   \n",
      "682511                                          Inception  2010   \n",
      "684215                                          Inception  2010   \n",
      "711192                                          Inception  2010   \n",
      "779284                                          Inception  2010   \n",
      "783405                                          Inception  2010   \n",
      "802478                                          Inception  2010   \n",
      "803728                                          Inception  2010   \n",
      "806524                                          Inception  2010   \n",
      "829338                                          Inception  2010   \n",
      "878274                                          Inception  2010   \n",
      "907468                                          Inception  2010   \n",
      "932903                                          Inception  2010   \n",
      "971196                                          Inception  2010   \n",
      "\n",
      "                    character   type     n  \n",
      "56138                     Mac  actor   NaN  \n",
      "94333           LAX Passenger  actor   NaN  \n",
      "143138  Fischer's Jet Captain  actor  44.0  \n",
      "176819               Browning  actor   8.0  \n",
      "190249       Mombasan Gambler  actor   NaN  \n",
      "250191         Bridge Sub Con  actor  29.0  \n",
      "314663                  Miles  actor  11.0  \n",
      "321091       Elderly Bald Man  actor  20.0  \n",
      "361119          LAX Passenger  actor   NaN  \n",
      "417982         Bridge Sub Con  actor  26.0  \n",
      "428199            Bar Sub Con  actor  34.0  \n",
      "498708         Bridge Sub Con  actor  30.0  \n",
      "569504                   Cobb  actor   1.0  \n",
      "659835        Italian Gambler  actor   NaN  \n",
      "666157           Stock Broker  actor   NaN  \n",
      "682511                  Extra  actor   NaN  \n",
      "684215             Cab Driver  actor  23.0  \n",
      "711192        Penrose Sub Con  actor  32.0  \n",
      "779284    Immigration Officer  actor  45.0  \n",
      "783405        James (3 years)  actor  17.0  \n",
      "802478          Lobby Sub Con  actor  40.0  \n",
      "803728               Old Cobb  actor  50.0  \n",
      "806524         Bridge Sub Con  actor   NaN  \n",
      "829338                 Arthur  actor   2.0  \n",
      "878274                   Nash  actor  12.0  \n",
      "907468                  Eames  actor   4.0  \n",
      "932903                 Lawyer  actor  21.0  \n",
      "971196             Pedestrian  actor   NaN  \n"
     ]
    }
   ],
   "source": [
    "Inception_movies=data[data['title'].str.contains('Inception')]\n",
    "print(Inception_movies[['title','year','character','type','n']])"
   ]
  },
  {
   "cell_type": "code",
   "execution_count": 9,
   "metadata": {},
   "outputs": [],
   "source": [
    "Inception_roles_unranked=data[(data[title_column]=='Inception') & data[n_column].isnull()]"
   ]
  },
  {
   "cell_type": "code",
   "execution_count": 10,
   "metadata": {},
   "outputs": [
    {
     "name": "stdout",
     "output_type": "stream",
     "text": [
      "the number of the rolesin Inception not ranked by an n value:8\n"
     ]
    }
   ],
   "source": [
    "count_unranked_roles = len(Inception_roles_unranked)\n",
    "print(f'the number of the rolesin Inception not ranked by an n value:{count_unranked_roles}')"
   ]
  },
  {
   "cell_type": "markdown",
   "metadata": {
    "collapsed": true
   },
   "source": [
    "### But how many roles in the movie \"Inception\" did receive an \"n\" value?"
   ]
  },
  {
   "cell_type": "code",
   "execution_count": 5,
   "metadata": {},
   "outputs": [],
   "source": [
    "Inception_roles_n_value=data[(data['title']=='Inception') & (data['n'].isnull())]"
   ]
  },
  {
   "cell_type": "code",
   "execution_count": 6,
   "metadata": {},
   "outputs": [
    {
     "name": "stdout",
     "output_type": "stream",
     "text": [
      "8\n"
     ]
    }
   ],
   "source": [
    "num_roles_with_n_value = Inception_roles_n_value.shape[0]\n",
    "print(num_roles_with_n_value)"
   ]
  },
  {
   "cell_type": "markdown",
   "metadata": {
    "collapsed": true
   },
   "source": [
    "### Display the cast of \"North by Northwest\" in their correct \"n\"-value order, ignoring roles that did not earn a numeric \"n\" value."
   ]
  },
  {
   "cell_type": "code",
   "execution_count": 11,
   "metadata": {},
   "outputs": [],
   "source": [
    "n_column='n'\n",
    "title_column='title'\n",
    "cast_column='name'"
   ]
  },
  {
   "cell_type": "code",
   "execution_count": 178,
   "metadata": {},
   "outputs": [],
   "source": [
    "North_by_Northwest_cast=data[(data[title_column]=='North by Northwest') & data[n_column].notnull()]"
   ]
  },
  {
   "cell_type": "code",
   "execution_count": 182,
   "metadata": {},
   "outputs": [
    {
     "name": "stdout",
     "output_type": "stream",
     "text": [
      "                     name     n\n",
      "840374         Cary Grant   1.0\n",
      "343701     Leo G. Carroll   5.0\n",
      "642085  Robert Ellenstein  11.0\n",
      "447893    Philip Coolidge  13.0\n",
      "198496       Edward Binns  15.0\n"
     ]
    }
   ],
   "source": [
    "sorted_cast =North_by_Northwest_cast.sort_values(by=n_column)\n",
    "print(sorted_cast[[cast_column,n_column]])"
   ]
  },
  {
   "cell_type": "markdown",
   "metadata": {
    "collapsed": true
   },
   "source": [
    "### Display the entire cast, in \"n\"-order, of the 1972 film \"Sleuth\"."
   ]
  },
  {
   "cell_type": "code",
   "execution_count": 12,
   "metadata": {},
   "outputs": [],
   "source": [
    "Sleuth_1972_cast=data[(data[title_column]=='Sleuth') & (data['year']==1972) & data[n_column].notnull()]"
   ]
  },
  {
   "cell_type": "code",
   "execution_count": 13,
   "metadata": {},
   "outputs": [
    {
     "name": "stdout",
     "output_type": "stream",
     "text": [
      "                  name    n\n",
      "314691   Michael Caine  2.0\n",
      "360365  Alec Cawthorne  3.0\n"
     ]
    }
   ],
   "source": [
    "sorted_cast =Sleuth_1972_cast.sort_values(by=n_column)\n",
    "print(sorted_cast[[cast_column,n_column]])"
   ]
  },
  {
   "cell_type": "markdown",
   "metadata": {
    "collapsed": true
   },
   "source": [
    "### Now display the entire cast, in \"n\"-order, of the 2007 version of \"Sleuth\"."
   ]
  },
  {
   "cell_type": "code",
   "execution_count": 185,
   "metadata": {},
   "outputs": [],
   "source": [
    "Sleuth_2007_cast=data[(data[title_column]=='Sleuth') & (data['year']==2007) & data[n_column].notnull()]"
   ]
  },
  {
   "cell_type": "code",
   "execution_count": 186,
   "metadata": {},
   "outputs": [
    {
     "name": "stdout",
     "output_type": "stream",
     "text": [
      "                 name    n\n",
      "314692  Michael Caine  1.0\n"
     ]
    }
   ],
   "source": [
    "sorted_cast =Sleuth_2007_cast.sort_values(by=n_column)\n",
    "print(sorted_cast[[cast_column,n_column]])"
   ]
  },
  {
   "cell_type": "markdown",
   "metadata": {
    "collapsed": true
   },
   "source": [
    "### How many roles were credited in the silent 1921 version of Hamlet?"
   ]
  },
  {
   "cell_type": "code",
   "execution_count": 19,
   "metadata": {},
   "outputs": [],
   "source": [
    "n='n'\n",
    "title='title'\n",
    "year='year'\n",
    "name='name'"
   ]
  },
  {
   "cell_type": "code",
   "execution_count": 5,
   "metadata": {},
   "outputs": [],
   "source": [
    "Hamlet_1921=data[(data['title']=='Hamlet') & (data['year']==1921)]"
   ]
  },
  {
   "cell_type": "code",
   "execution_count": 6,
   "metadata": {},
   "outputs": [
    {
     "name": "stdout",
     "output_type": "stream",
     "text": [
      "3\n"
     ]
    }
   ],
   "source": [
    "num_character =len(Hamlet_1921)\n",
    "print(num_character)\n"
   ]
  },
  {
   "cell_type": "code",
   "execution_count": 28,
   "metadata": {},
   "outputs": [
    {
     "name": "stdout",
     "output_type": "stream",
     "text": [
      "         title  year              name   type     character    n\n",
      "7438    Hamlet  1921  Fritz Achterberg  actor   Fortinbras,  9.0\n",
      "442224  Hamlet  1921      Paul Conradi  actor  K?nig Hamlet  2.0\n",
      "535307  Hamlet  1921  Anton De Verdier  actor       Laertes  7.0\n"
     ]
    }
   ],
   "source": [
    "print(data[(data[title]=='Hamlet') & (data[year]==1921)])"
   ]
  },
  {
   "cell_type": "markdown",
   "metadata": {
    "collapsed": true
   },
   "source": [
    "### How many roles were credited in Branagh’s 1996 Hamlet?"
   ]
  },
  {
   "cell_type": "code",
   "execution_count": 63,
   "metadata": {},
   "outputs": [],
   "source": [
    "Branagh_Hamlet_1996_roles=data[(data[name]=='Kenneth Branagh')& (data[year]==1996) & data[n].notnull()]"
   ]
  },
  {
   "cell_type": "code",
   "execution_count": 86,
   "metadata": {},
   "outputs": [
    {
     "name": "stdout",
     "output_type": "stream",
     "text": [
      "1\n"
     ]
    }
   ],
   "source": [
    "num_credited_roles = len(Branagh_Hamlet_1996_roles)\n",
    "print(num_credited_roles)"
   ]
  },
  {
   "cell_type": "markdown",
   "metadata": {
    "collapsed": true
   },
   "source": [
    "### How many \"Hamlet\" roles have been listed in all film credits through history?"
   ]
  },
  {
   "cell_type": "code",
   "execution_count": 27,
   "metadata": {},
   "outputs": [],
   "source": [
    "n='n'\n",
    "title='title'\n",
    "character='character'"
   ]
  },
  {
   "cell_type": "code",
   "execution_count": 37,
   "metadata": {},
   "outputs": [],
   "source": [
    "Hamlet_roles= data[(data[character]=='Hamlet')]"
   ]
  },
  {
   "cell_type": "code",
   "execution_count": 38,
   "metadata": {},
   "outputs": [
    {
     "name": "stdout",
     "output_type": "stream",
     "text": [
      "38\n"
     ]
    }
   ],
   "source": [
    "total_Hamlet_roles=len(Hamlet_roles)\n",
    "print(total_Hamlet_roles)"
   ]
  },
  {
   "cell_type": "markdown",
   "metadata": {
    "collapsed": true
   },
   "source": [
    "### How many people have played an \"Ophelia\"?"
   ]
  },
  {
   "cell_type": "code",
   "execution_count": 39,
   "metadata": {},
   "outputs": [],
   "source": [
    "Ophelia_actor=data[(data[character]=='Ophelia')]"
   ]
  },
  {
   "cell_type": "code",
   "execution_count": 93,
   "metadata": {},
   "outputs": [
    {
     "name": "stdout",
     "output_type": "stream",
     "text": [
      "238855        Amy Bourque\n",
      "395196     Josie Chisholm\n",
      "453835    Crystal Cordero\n",
      "835461      Lucas Grabeel\n",
      "Name: name, dtype: object\n"
     ]
    }
   ],
   "source": [
    "num_Ophelia_actor =Ophelia_actor[name]\n",
    "print(num_Ophelia_actor)"
   ]
  },
  {
   "cell_type": "code",
   "execution_count": 94,
   "metadata": {},
   "outputs": [
    {
     "name": "stdout",
     "output_type": "stream",
     "text": [
      "4\n"
     ]
    }
   ],
   "source": [
    "num_Ophelia_actor =Ophelia_actor[name].nunique()\n",
    "print(num_Ophelia_actor)"
   ]
  },
  {
   "cell_type": "markdown",
   "metadata": {
    "collapsed": true
   },
   "source": [
    "### How many people have played a role called \"The Dude\"?"
   ]
  },
  {
   "cell_type": "code",
   "execution_count": 40,
   "metadata": {},
   "outputs": [],
   "source": [
    "The_Dude_actor=data[(data[character]=='The Dude')]"
   ]
  },
  {
   "cell_type": "code",
   "execution_count": 41,
   "metadata": {
    "scrolled": true
   },
   "outputs": [
    {
     "name": "stdout",
     "output_type": "stream",
     "text": [
      "261792      Jeff Bridges\n",
      "326893       Jordan Cann\n",
      "480810     Scott Crowell\n",
      "549887    Chris DeMarcus\n",
      "588962       Mike Donlin\n",
      "607151    Devin The Dude\n",
      "Name: name, dtype: object\n"
     ]
    }
   ],
   "source": [
    "num_The_Dude_actor =The_Dude_actor[name]\n",
    "print(num_The_Dude_actor)"
   ]
  },
  {
   "cell_type": "code",
   "execution_count": 99,
   "metadata": {},
   "outputs": [
    {
     "name": "stdout",
     "output_type": "stream",
     "text": [
      "6\n"
     ]
    }
   ],
   "source": [
    "num_The_Dude_actor =The_Dude_actor[name].nunique()\n",
    "print(num_The_Dude_actor)"
   ]
  },
  {
   "cell_type": "markdown",
   "metadata": {
    "collapsed": true
   },
   "source": [
    "### How many people have played a role called \"The Stranger\"?"
   ]
  },
  {
   "cell_type": "code",
   "execution_count": 101,
   "metadata": {},
   "outputs": [],
   "source": [
    "The_Stranger_actor=data[(data[character]=='The Stranger')]"
   ]
  },
  {
   "cell_type": "code",
   "execution_count": 102,
   "metadata": {},
   "outputs": [
    {
     "name": "stdout",
     "output_type": "stream",
     "text": [
      "80\n"
     ]
    }
   ],
   "source": [
    "num_The_Stranger_actor =The_Stranger_actor[name].nunique()\n",
    "print(num_The_Stranger_actor)"
   ]
  },
  {
   "cell_type": "markdown",
   "metadata": {
    "collapsed": true
   },
   "source": [
    "### How many roles has Sidney Poitier played throughout his career?"
   ]
  },
  {
   "cell_type": "code",
   "execution_count": 30,
   "metadata": {},
   "outputs": [],
   "source": [
    "name='name'\n",
    "title='title'\n",
    "n='n'\n",
    "actor='actor'"
   ]
  },
  {
   "cell_type": "code",
   "execution_count": 7,
   "metadata": {},
   "outputs": [],
   "source": [
    "Sidney_Poitier_roles=data[(data['name'].str.contains('Sidney Poitier',case=False))]"
   ]
  },
  {
   "cell_type": "code",
   "execution_count": 8,
   "metadata": {},
   "outputs": [
    {
     "name": "stdout",
     "output_type": "stream",
     "text": [
      "0\n"
     ]
    }
   ],
   "source": [
    "num_roles=len(Sidney_Poitier_roles)\n",
    "print(num_roles)"
   ]
  },
  {
   "cell_type": "markdown",
   "metadata": {
    "collapsed": true
   },
   "source": [
    "### How many roles has Judi Dench played?"
   ]
  },
  {
   "cell_type": "code",
   "execution_count": 46,
   "metadata": {},
   "outputs": [],
   "source": [
    "Judi_Dench_roles = data[(data[name]=='Judi Dench') & data[n].notnull()]"
   ]
  },
  {
   "cell_type": "code",
   "execution_count": 47,
   "metadata": {},
   "outputs": [
    {
     "name": "stdout",
     "output_type": "stream",
     "text": [
      " the number of roles played:0\n"
     ]
    }
   ],
   "source": [
    "num_Judi_Dench_roles=len(Judi_Dench_roles)\n",
    "print(f' the number of roles played:{num_Judi_Dench_roles}')"
   ]
  },
  {
   "cell_type": "markdown",
   "metadata": {
    "collapsed": true
   },
   "source": [
    "### List the supporting roles (having n=2) played by Cary Grant in the 1940s, in order by year."
   ]
  },
  {
   "cell_type": "code",
   "execution_count": 31,
   "metadata": {},
   "outputs": [],
   "source": [
    "Cary_Grant_supporting_roles_1940=data[(data['n']==2) & (data['type']=='actor') & (data['year']==1940)]"
   ]
  },
  {
   "cell_type": "code",
   "execution_count": 34,
   "metadata": {},
   "outputs": [],
   "source": [
    "sorted_Cary_Grant_supporting_roles_1940= Cary_Grant_supporting_roles_1940.sort_values('year')"
   ]
  },
  {
   "cell_type": "code",
   "execution_count": 37,
   "metadata": {},
   "outputs": [
    {
     "name": "stdout",
     "output_type": "stream",
     "text": [
      "                           title  year\n",
      "15124                  Ett brott  1940\n",
      "691965           El charro Negro  1940\n",
      "695095               Infidelidad  1940\n",
      "698347   The Great Plane Robbery  1940\n",
      "698419       My Little Chickadee  1940\n",
      "...                          ...   ...\n",
      "459308    Alessandro sei grande!  1940\n",
      "461642          Capitan Fracassa  1940\n",
      "461643          Capitan Fracassa  1940\n",
      "296415             Carolina Moon  1940\n",
      "1040451              Band Waggon  1940\n",
      "\n",
      "[179 rows x 2 columns]\n"
     ]
    }
   ],
   "source": [
    "print(sorted_Cary_Grant_supporting_roles_1940[['title','year']])"
   ]
  },
  {
   "cell_type": "markdown",
   "metadata": {
    "collapsed": true
   },
   "source": [
    "### List the leading roles that Cary Grant played in the 1940s in order by year."
   ]
  },
  {
   "cell_type": "code",
   "execution_count": 39,
   "metadata": {},
   "outputs": [],
   "source": [
    "Cary_Grant_leading_roles_1940=data[(data['n']==1) & (data['type']=='actor') & (data['year']==1940)]"
   ]
  },
  {
   "cell_type": "code",
   "execution_count": 41,
   "metadata": {},
   "outputs": [
    {
     "name": "stdout",
     "output_type": "stream",
     "text": [
      "                                 title  year\n",
      "9357             The Ramparts We Watch  1940\n",
      "698430                   The Bank Dick  1940\n",
      "715871                  Santa Fe Trail  1940\n",
      "715889                    The Sea Hawk  1940\n",
      "715896                   Virginia City  1940\n",
      "...                                ...   ...\n",
      "285717                The Middle Watch  1940\n",
      "285699         Bulldog Sees It Through  1940\n",
      "278284   Oh, Johnny, How You Can Love!  1940\n",
      "296849                Alias the Deacon  1940\n",
      "1047924           'Swing it' magistern  1940\n",
      "\n",
      "[283 rows x 2 columns]\n"
     ]
    }
   ],
   "source": [
    "sorted_Cary_Grant_leading_roles_1940= Cary_Grant_leading_roles_1940.sort_values('year')\n",
    "print(sorted_Cary_Grant_leading_roles_1940[['title','year']])"
   ]
  },
  {
   "cell_type": "markdown",
   "metadata": {
    "collapsed": true
   },
   "source": [
    "### How many roles were available for actors in the 1950s?"
   ]
  },
  {
   "cell_type": "code",
   "execution_count": 49,
   "metadata": {},
   "outputs": [],
   "source": [
    "actor_roles_1950 = data[(data[year]//10==195)]"
   ]
  },
  {
   "cell_type": "code",
   "execution_count": 50,
   "metadata": {},
   "outputs": [
    {
     "name": "stdout",
     "output_type": "stream",
     "text": [
      "67706\n"
     ]
    }
   ],
   "source": [
    "num_roles_1950 =len(actor_roles_1950)\n",
    "print(num_roles_1950)"
   ]
  },
  {
   "cell_type": "markdown",
   "metadata": {
    "collapsed": true
   },
   "source": [
    "### How many roles were available for actresses in the 1950s?"
   ]
  },
  {
   "cell_type": "code",
   "execution_count": 57,
   "metadata": {},
   "outputs": [],
   "source": [
    "actresses_roles_1950 = data[(data[year]//10==195)]"
   ]
  },
  {
   "cell_type": "code",
   "execution_count": 58,
   "metadata": {},
   "outputs": [
    {
     "name": "stdout",
     "output_type": "stream",
     "text": [
      "67706\n"
     ]
    }
   ],
   "source": [
    "num_roles_1950 =len(actresses_roles_1950)# in data not mention actress thats why its show same value as actor\n",
    "print(num_roles_1950)"
   ]
  },
  {
   "cell_type": "markdown",
   "metadata": {
    "collapsed": true
   },
   "source": [
    "### How many leading roles (n=1) were available from the beginning of film history through 1980?"
   ]
  },
  {
   "cell_type": "code",
   "execution_count": 64,
   "metadata": {},
   "outputs": [],
   "source": [
    "leading_roles_until_1980 = data[(data['n']==1) & (data['year']<= 1980)]"
   ]
  },
  {
   "cell_type": "code",
   "execution_count": 60,
   "metadata": {},
   "outputs": [
    {
     "name": "stdout",
     "output_type": "stream",
     "text": [
      "18968\n"
     ]
    }
   ],
   "source": [
    "num_leading_roles_until_1980=len(leading_roles_until_1980)\n",
    "print(num_leading_roles_until_1980)"
   ]
  },
  {
   "cell_type": "markdown",
   "metadata": {
    "collapsed": true
   },
   "source": [
    "### How many non-leading roles were available through from the beginning of film history through 1980?"
   ]
  },
  {
   "cell_type": "code",
   "execution_count": 65,
   "metadata": {},
   "outputs": [],
   "source": [
    "non_leading_roles_until_1980 = data[(data['n']!=1) & (data['year']<= 1980)]"
   ]
  },
  {
   "cell_type": "code",
   "execution_count": 66,
   "metadata": {},
   "outputs": [
    {
     "name": "stdout",
     "output_type": "stream",
     "text": [
      "351862\n"
     ]
    }
   ],
   "source": [
    "num_non_leading_roles_until_1980=len(non_leading_roles_until_1980)\n",
    "print(num_non_leading_roles_until_1980)"
   ]
  },
  {
   "cell_type": "markdown",
   "metadata": {
    "collapsed": true
   },
   "source": [
    "### How many roles through 1980 were minor enough that they did not warrant a numeric \"n\" rank?"
   ]
  },
  {
   "cell_type": "code",
   "execution_count": 67,
   "metadata": {},
   "outputs": [],
   "source": [
    "minor_roles_until_1980 = data[(data['n'].isna()) & (data['year']<= 1980)]"
   ]
  },
  {
   "cell_type": "code",
   "execution_count": 68,
   "metadata": {},
   "outputs": [
    {
     "name": "stdout",
     "output_type": "stream",
     "text": [
      "149991\n"
     ]
    }
   ],
   "source": [
    "num_minor_roles_until_1980=len(minor_roles_until_1980)\n",
    "print(num_minor_roles_until_1980)"
   ]
  }
 ],
 "metadata": {
  "kernelspec": {
   "display_name": "Python 3 (ipykernel)",
   "language": "python",
   "name": "python3"
  },
  "language_info": {
   "codemirror_mode": {
    "name": "ipython",
    "version": 3
   },
   "file_extension": ".py",
   "mimetype": "text/x-python",
   "name": "python",
   "nbconvert_exporter": "python",
   "pygments_lexer": "ipython3",
   "version": "3.11.4"
  }
 },
 "nbformat": 4,
 "nbformat_minor": 1
}
