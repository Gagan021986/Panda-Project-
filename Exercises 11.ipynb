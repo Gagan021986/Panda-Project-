{
 "cells": [
  {
   "cell_type": "code",
   "execution_count": 1,
   "metadata": {},
   "outputs": [],
   "source": [
    "%matplotlib inline\n",
    "import pandas as pd"
   ]
  },
  {
   "cell_type": "code",
   "execution_count": 2,
   "metadata": {
    "scrolled": true
   },
   "outputs": [
    {
     "data": {
      "text/html": [
       "<div>\n",
       "<style scoped>\n",
       "    .dataframe tbody tr th:only-of-type {\n",
       "        vertical-align: middle;\n",
       "    }\n",
       "\n",
       "    .dataframe tbody tr th {\n",
       "        vertical-align: top;\n",
       "    }\n",
       "\n",
       "    .dataframe thead th {\n",
       "        text-align: right;\n",
       "    }\n",
       "</style>\n",
       "<table border=\"1\" class=\"dataframe\">\n",
       "  <thead>\n",
       "    <tr style=\"text-align: right;\">\n",
       "      <th></th>\n",
       "      <th>title</th>\n",
       "      <th>year</th>\n",
       "      <th>name</th>\n",
       "      <th>type</th>\n",
       "      <th>character</th>\n",
       "      <th>n</th>\n",
       "    </tr>\n",
       "  </thead>\n",
       "  <tbody>\n",
       "    <tr>\n",
       "      <th>0</th>\n",
       "      <td>Closet Monster</td>\n",
       "      <td>2015</td>\n",
       "      <td>Buffy #1</td>\n",
       "      <td>actor</td>\n",
       "      <td>Buffy 4</td>\n",
       "      <td>NaN</td>\n",
       "    </tr>\n",
       "    <tr>\n",
       "      <th>1</th>\n",
       "      <td>Suuri illusioni</td>\n",
       "      <td>1985</td>\n",
       "      <td>Homo $</td>\n",
       "      <td>actor</td>\n",
       "      <td>Guests</td>\n",
       "      <td>22.0</td>\n",
       "    </tr>\n",
       "    <tr>\n",
       "      <th>2</th>\n",
       "      <td>Battle of the Sexes</td>\n",
       "      <td>2017</td>\n",
       "      <td>$hutter</td>\n",
       "      <td>actor</td>\n",
       "      <td>Bobby Riggs Fan</td>\n",
       "      <td>10.0</td>\n",
       "    </tr>\n",
       "  </tbody>\n",
       "</table>\n",
       "</div>"
      ],
      "text/plain": [
       "                 title  year      name   type        character     n\n",
       "0       Closet Monster  2015  Buffy #1  actor          Buffy 4   NaN\n",
       "1      Suuri illusioni  1985    Homo $  actor           Guests  22.0\n",
       "2  Battle of the Sexes  2017   $hutter  actor  Bobby Riggs Fan  10.0"
      ]
     },
     "execution_count": 2,
     "metadata": {},
     "output_type": "execute_result"
    }
   ],
   "source": [
    "data =pd.read_csv(\"C:/Users/Hira singh/Desktop/cast 1.csv\")\n",
    "data.head(3)"
   ]
  },
  {
   "cell_type": "markdown",
   "metadata": {
    "collapsed": true
   },
   "source": [
    "# How many movies are listed in the titles dataframe?"
   ]
  },
  {
   "cell_type": "code",
   "execution_count": 3,
   "metadata": {},
   "outputs": [
    {
     "data": {
      "text/plain": [
       "0                            Closet Monster\n",
       "1                           Suuri illusioni\n",
       "2                       Battle of the Sexes\n",
       "3                      Secret in Their Eyes\n",
       "4                                Steve Jobs\n",
       "                         ...               \n",
       "3611207                             Foxtrot\n",
       "3611208    Niceland (Population. 1.000.002)\n",
       "3611209                           Skammdegi\n",
       "3611210                        U.S.S.S.S...\n",
       "3611211                   Bye Bye Blue Bird\n",
       "Name: title, Length: 3611212, dtype: object"
      ]
     },
     "execution_count": 3,
     "metadata": {},
     "output_type": "execute_result"
    }
   ],
   "source": [
    "data.title"
   ]
  },
  {
   "cell_type": "code",
   "execution_count": 18,
   "metadata": {},
   "outputs": [
    {
     "data": {
      "text/plain": [
       "title        3611212\n",
       "year         3611212\n",
       "name         3611212\n",
       "type         3611212\n",
       "character    3611212\n",
       "n            2231970\n",
       "dtype: int64"
      ]
     },
     "execution_count": 18,
     "metadata": {},
     "output_type": "execute_result"
    }
   ],
   "source": [
    "data.count() "
   ]
  },
  {
   "cell_type": "markdown",
   "metadata": {
    "collapsed": true
   },
   "source": [
    "### What are the earliest two films listed in the titles dataframe?"
   ]
  },
  {
   "cell_type": "code",
   "execution_count": 17,
   "metadata": {},
   "outputs": [
    {
     "data": {
      "text/html": [
       "<div>\n",
       "<style scoped>\n",
       "    .dataframe tbody tr th:only-of-type {\n",
       "        vertical-align: middle;\n",
       "    }\n",
       "\n",
       "    .dataframe tbody tr th {\n",
       "        vertical-align: top;\n",
       "    }\n",
       "\n",
       "    .dataframe thead th {\n",
       "        text-align: right;\n",
       "    }\n",
       "</style>\n",
       "<table border=\"1\" class=\"dataframe\">\n",
       "  <thead>\n",
       "    <tr style=\"text-align: right;\">\n",
       "      <th></th>\n",
       "      <th>title</th>\n",
       "      <th>year</th>\n",
       "      <th>name</th>\n",
       "      <th>type</th>\n",
       "      <th>character</th>\n",
       "      <th>n</th>\n",
       "    </tr>\n",
       "  </thead>\n",
       "  <tbody>\n",
       "    <tr>\n",
       "      <th>0</th>\n",
       "      <td>Closet Monster</td>\n",
       "      <td>2015</td>\n",
       "      <td>Buffy #1</td>\n",
       "      <td>actor</td>\n",
       "      <td>Buffy 4</td>\n",
       "      <td>NaN</td>\n",
       "    </tr>\n",
       "    <tr>\n",
       "      <th>1</th>\n",
       "      <td>Suuri illusioni</td>\n",
       "      <td>1985</td>\n",
       "      <td>Homo $</td>\n",
       "      <td>actor</td>\n",
       "      <td>Guests</td>\n",
       "      <td>22.0</td>\n",
       "    </tr>\n",
       "  </tbody>\n",
       "</table>\n",
       "</div>"
      ],
      "text/plain": [
       "             title  year      name   type character     n\n",
       "0   Closet Monster  2015  Buffy #1  actor   Buffy 4   NaN\n",
       "1  Suuri illusioni  1985    Homo $  actor    Guests  22.0"
      ]
     },
     "execution_count": 17,
     "metadata": {},
     "output_type": "execute_result"
    }
   ],
   "source": [
    "data.head(2)"
   ]
  },
  {
   "cell_type": "markdown",
   "metadata": {
    "collapsed": true
   },
   "source": [
    "### How many movies have the title \"Hamlet\"?"
   ]
  },
  {
   "cell_type": "code",
   "execution_count": 47,
   "metadata": {},
   "outputs": [
    {
     "data": {
      "text/plain": [
       "Index(['title', 'year', 'name', 'type', 'character', 'n'], dtype='object')"
      ]
     },
     "execution_count": 47,
     "metadata": {},
     "output_type": "execute_result"
    }
   ],
   "source": [
    "data.columns"
   ]
  },
  {
   "cell_type": "code",
   "execution_count": 19,
   "metadata": {
    "collapsed": true
   },
   "outputs": [
    {
     "data": {
      "text/html": [
       "<div>\n",
       "<style scoped>\n",
       "    .dataframe tbody tr th:only-of-type {\n",
       "        vertical-align: middle;\n",
       "    }\n",
       "\n",
       "    .dataframe tbody tr th {\n",
       "        vertical-align: top;\n",
       "    }\n",
       "\n",
       "    .dataframe thead th {\n",
       "        text-align: right;\n",
       "    }\n",
       "</style>\n",
       "<table border=\"1\" class=\"dataframe\">\n",
       "  <thead>\n",
       "    <tr style=\"text-align: right;\">\n",
       "      <th></th>\n",
       "      <th>title</th>\n",
       "      <th>year</th>\n",
       "      <th>name</th>\n",
       "      <th>type</th>\n",
       "      <th>character</th>\n",
       "      <th>n</th>\n",
       "    </tr>\n",
       "  </thead>\n",
       "  <tbody>\n",
       "    <tr>\n",
       "      <th>1615</th>\n",
       "      <td>Hamlet</td>\n",
       "      <td>1996</td>\n",
       "      <td>Riz Abbasi</td>\n",
       "      <td>actor</td>\n",
       "      <td>Attendant to Claudius</td>\n",
       "      <td>1.0</td>\n",
       "    </tr>\n",
       "    <tr>\n",
       "      <th>4250</th>\n",
       "      <td>Royal Shakespeare Company: Hamlet</td>\n",
       "      <td>2016</td>\n",
       "      <td>Hiran Abeysekera</td>\n",
       "      <td>actor</td>\n",
       "      <td>Horatio</td>\n",
       "      <td>8.0</td>\n",
       "    </tr>\n",
       "    <tr>\n",
       "      <th>6421</th>\n",
       "      <td>Hamlet, Prince of Denmark</td>\n",
       "      <td>1997</td>\n",
       "      <td>Ernest Abuba</td>\n",
       "      <td>actor</td>\n",
       "      <td>The King</td>\n",
       "      <td>NaN</td>\n",
       "    </tr>\n",
       "    <tr>\n",
       "      <th>7438</th>\n",
       "      <td>Hamlet</td>\n",
       "      <td>1921</td>\n",
       "      <td>Fritz Achterberg</td>\n",
       "      <td>actor</td>\n",
       "      <td>Fortinbras,</td>\n",
       "      <td>9.0</td>\n",
       "    </tr>\n",
       "    <tr>\n",
       "      <th>11242</th>\n",
       "      <td>Hamlet</td>\n",
       "      <td>2009</td>\n",
       "      <td>Hayden Adams</td>\n",
       "      <td>actor</td>\n",
       "      <td>Laertes</td>\n",
       "      <td>7.0</td>\n",
       "    </tr>\n",
       "    <tr>\n",
       "      <th>...</th>\n",
       "      <td>...</td>\n",
       "      <td>...</td>\n",
       "      <td>...</td>\n",
       "      <td>...</td>\n",
       "      <td>...</td>\n",
       "      <td>...</td>\n",
       "    </tr>\n",
       "    <tr>\n",
       "      <th>3575785</th>\n",
       "      <td>Zombie Hamlet</td>\n",
       "      <td>2012</td>\n",
       "      <td>Emmalee Wilson</td>\n",
       "      <td>actress</td>\n",
       "      <td>Annabellle Beauchamps</td>\n",
       "      <td>NaN</td>\n",
       "    </tr>\n",
       "    <tr>\n",
       "      <th>3578802</th>\n",
       "      <td>Hamlet</td>\n",
       "      <td>1996</td>\n",
       "      <td>Kate Winslet</td>\n",
       "      <td>actress</td>\n",
       "      <td>Ophelia</td>\n",
       "      <td>46.0</td>\n",
       "    </tr>\n",
       "    <tr>\n",
       "      <th>3603822</th>\n",
       "      <td>Hamlet 2</td>\n",
       "      <td>2008</td>\n",
       "      <td>Lydia Zazueta</td>\n",
       "      <td>actress</td>\n",
       "      <td>Audience Member</td>\n",
       "      <td>NaN</td>\n",
       "    </tr>\n",
       "    <tr>\n",
       "      <th>3607177</th>\n",
       "      <td>Hamlet's Ghost</td>\n",
       "      <td>2015</td>\n",
       "      <td>Stephanie Zimbalist</td>\n",
       "      <td>actress</td>\n",
       "      <td>Justina Keller</td>\n",
       "      <td>7.0</td>\n",
       "    </tr>\n",
       "    <tr>\n",
       "      <th>3607178</th>\n",
       "      <td>Hamlet's Ghost</td>\n",
       "      <td>2015</td>\n",
       "      <td>Stephanie Zimbalist</td>\n",
       "      <td>actress</td>\n",
       "      <td>Queen Gertrude</td>\n",
       "      <td>7.0</td>\n",
       "    </tr>\n",
       "  </tbody>\n",
       "</table>\n",
       "<p>921 rows × 6 columns</p>\n",
       "</div>"
      ],
      "text/plain": [
       "                                     title  year                 name  \\\n",
       "1615                                Hamlet  1996           Riz Abbasi   \n",
       "4250     Royal Shakespeare Company: Hamlet  2016     Hiran Abeysekera   \n",
       "6421             Hamlet, Prince of Denmark  1997         Ernest Abuba   \n",
       "7438                                Hamlet  1921     Fritz Achterberg   \n",
       "11242                               Hamlet  2009         Hayden Adams   \n",
       "...                                    ...   ...                  ...   \n",
       "3575785                      Zombie Hamlet  2012       Emmalee Wilson   \n",
       "3578802                             Hamlet  1996         Kate Winslet   \n",
       "3603822                           Hamlet 2  2008        Lydia Zazueta   \n",
       "3607177                     Hamlet's Ghost  2015  Stephanie Zimbalist   \n",
       "3607178                     Hamlet's Ghost  2015  Stephanie Zimbalist   \n",
       "\n",
       "            type              character     n  \n",
       "1615       actor  Attendant to Claudius   1.0  \n",
       "4250       actor                Horatio   8.0  \n",
       "6421       actor               The King   NaN  \n",
       "7438       actor            Fortinbras,   9.0  \n",
       "11242      actor                Laertes   7.0  \n",
       "...          ...                    ...   ...  \n",
       "3575785  actress  Annabellle Beauchamps   NaN  \n",
       "3578802  actress                Ophelia  46.0  \n",
       "3603822  actress        Audience Member   NaN  \n",
       "3607177  actress         Justina Keller   7.0  \n",
       "3607178  actress         Queen Gertrude   7.0  \n",
       "\n",
       "[921 rows x 6 columns]"
      ]
     },
     "execution_count": 19,
     "metadata": {},
     "output_type": "execute_result"
    }
   ],
   "source": [
    "data[data.title.str.contains('Hamlet')]"
   ]
  },
  {
   "cell_type": "code",
   "execution_count": 20,
   "metadata": {},
   "outputs": [
    {
     "data": {
      "text/plain": [
       "313"
      ]
     },
     "execution_count": 20,
     "metadata": {},
     "output_type": "execute_result"
    }
   ],
   "source": [
    "data['title'].value_counts()['Hamlet'] "
   ]
  },
  {
   "cell_type": "markdown",
   "metadata": {
    "collapsed": true
   },
   "source": [
    "### How many movies are titled \"North by Northwest\"?"
   ]
  },
  {
   "cell_type": "code",
   "execution_count": 21,
   "metadata": {
    "collapsed": true
   },
   "outputs": [
    {
     "data": {
      "text/html": [
       "<div>\n",
       "<style scoped>\n",
       "    .dataframe tbody tr th:only-of-type {\n",
       "        vertical-align: middle;\n",
       "    }\n",
       "\n",
       "    .dataframe tbody tr th {\n",
       "        vertical-align: top;\n",
       "    }\n",
       "\n",
       "    .dataframe thead th {\n",
       "        text-align: right;\n",
       "    }\n",
       "</style>\n",
       "<table border=\"1\" class=\"dataframe\">\n",
       "  <thead>\n",
       "    <tr style=\"text-align: right;\">\n",
       "      <th></th>\n",
       "      <th>title</th>\n",
       "      <th>year</th>\n",
       "      <th>name</th>\n",
       "      <th>type</th>\n",
       "      <th>character</th>\n",
       "      <th>n</th>\n",
       "    </tr>\n",
       "  </thead>\n",
       "  <tbody>\n",
       "    <tr>\n",
       "      <th>12151</th>\n",
       "      <td>North by Northwest</td>\n",
       "      <td>1959</td>\n",
       "      <td>Stanley Adams</td>\n",
       "      <td>actor</td>\n",
       "      <td>Lieutenant Harding</td>\n",
       "      <td>NaN</td>\n",
       "    </tr>\n",
       "    <tr>\n",
       "      <th>27852</th>\n",
       "      <td>North by Northwest</td>\n",
       "      <td>1959</td>\n",
       "      <td>Andy Albin</td>\n",
       "      <td>actor</td>\n",
       "      <td>Farmer</td>\n",
       "      <td>NaN</td>\n",
       "    </tr>\n",
       "    <tr>\n",
       "      <th>54093</th>\n",
       "      <td>North by Northwest</td>\n",
       "      <td>1959</td>\n",
       "      <td>Don Anderson</td>\n",
       "      <td>actor</td>\n",
       "      <td>Worker</td>\n",
       "      <td>NaN</td>\n",
       "    </tr>\n",
       "    <tr>\n",
       "      <th>54307</th>\n",
       "      <td>North by Northwest</td>\n",
       "      <td>1959</td>\n",
       "      <td>Ernest Anderson</td>\n",
       "      <td>actor</td>\n",
       "      <td>Porter on Twentieth Century Ltd.</td>\n",
       "      <td>NaN</td>\n",
       "    </tr>\n",
       "    <tr>\n",
       "      <th>92195</th>\n",
       "      <td>North by Northwest</td>\n",
       "      <td>1959</td>\n",
       "      <td>Malcolm Atterbury</td>\n",
       "      <td>actor</td>\n",
       "      <td>Man at Prairie Crossing</td>\n",
       "      <td>NaN</td>\n",
       "    </tr>\n",
       "    <tr>\n",
       "      <th>...</th>\n",
       "      <td>...</td>\n",
       "      <td>...</td>\n",
       "      <td>...</td>\n",
       "      <td>...</td>\n",
       "      <td>...</td>\n",
       "      <td>...</td>\n",
       "    </tr>\n",
       "    <tr>\n",
       "      <th>3361396</th>\n",
       "      <td>North by Northwest</td>\n",
       "      <td>1959</td>\n",
       "      <td>Eva Marie Saint</td>\n",
       "      <td>actress</td>\n",
       "      <td>Eve Kendall</td>\n",
       "      <td>2.0</td>\n",
       "    </tr>\n",
       "    <tr>\n",
       "      <th>3416124</th>\n",
       "      <td>North by Northwest</td>\n",
       "      <td>1959</td>\n",
       "      <td>Doris Singh</td>\n",
       "      <td>actress</td>\n",
       "      <td>First United Nations Receptionist</td>\n",
       "      <td>NaN</td>\n",
       "    </tr>\n",
       "    <tr>\n",
       "      <th>3437248</th>\n",
       "      <td>North by Northwest</td>\n",
       "      <td>1959</td>\n",
       "      <td>Helen Spring</td>\n",
       "      <td>actress</td>\n",
       "      <td>Bidder</td>\n",
       "      <td>NaN</td>\n",
       "    </tr>\n",
       "    <tr>\n",
       "      <th>3567500</th>\n",
       "      <td>North by Northwest</td>\n",
       "      <td>1959</td>\n",
       "      <td>Susan Whitney</td>\n",
       "      <td>actress</td>\n",
       "      <td>Attendant</td>\n",
       "      <td>NaN</td>\n",
       "    </tr>\n",
       "    <tr>\n",
       "      <th>3578877</th>\n",
       "      <td>North by Northwest</td>\n",
       "      <td>1959</td>\n",
       "      <td>Paula Winslowe</td>\n",
       "      <td>actress</td>\n",
       "      <td>Woman at Auction</td>\n",
       "      <td>NaN</td>\n",
       "    </tr>\n",
       "  </tbody>\n",
       "</table>\n",
       "<p>112 rows × 6 columns</p>\n",
       "</div>"
      ],
      "text/plain": [
       "                      title  year               name     type  \\\n",
       "12151    North by Northwest  1959      Stanley Adams    actor   \n",
       "27852    North by Northwest  1959         Andy Albin    actor   \n",
       "54093    North by Northwest  1959       Don Anderson    actor   \n",
       "54307    North by Northwest  1959    Ernest Anderson    actor   \n",
       "92195    North by Northwest  1959  Malcolm Atterbury    actor   \n",
       "...                     ...   ...                ...      ...   \n",
       "3361396  North by Northwest  1959    Eva Marie Saint  actress   \n",
       "3416124  North by Northwest  1959        Doris Singh  actress   \n",
       "3437248  North by Northwest  1959       Helen Spring  actress   \n",
       "3567500  North by Northwest  1959      Susan Whitney  actress   \n",
       "3578877  North by Northwest  1959     Paula Winslowe  actress   \n",
       "\n",
       "                                 character    n  \n",
       "12151                   Lieutenant Harding  NaN  \n",
       "27852                               Farmer  NaN  \n",
       "54093                               Worker  NaN  \n",
       "54307     Porter on Twentieth Century Ltd.  NaN  \n",
       "92195              Man at Prairie Crossing  NaN  \n",
       "...                                    ...  ...  \n",
       "3361396                        Eve Kendall  2.0  \n",
       "3416124  First United Nations Receptionist  NaN  \n",
       "3437248                             Bidder  NaN  \n",
       "3567500                          Attendant  NaN  \n",
       "3578877                   Woman at Auction  NaN  \n",
       "\n",
       "[112 rows x 6 columns]"
      ]
     },
     "execution_count": 21,
     "metadata": {},
     "output_type": "execute_result"
    }
   ],
   "source": [
    "data[data.title.str.contains('North by Northwest')]"
   ]
  },
  {
   "cell_type": "code",
   "execution_count": 22,
   "metadata": {},
   "outputs": [
    {
     "data": {
      "text/plain": [
       "112"
      ]
     },
     "execution_count": 22,
     "metadata": {},
     "output_type": "execute_result"
    }
   ],
   "source": [
    "data['title'].value_counts()['North by Northwest'] "
   ]
  },
  {
   "cell_type": "markdown",
   "metadata": {
    "collapsed": true
   },
   "source": [
    "### When was the first movie titled \"Hamlet\" made?"
   ]
  },
  {
   "cell_type": "code",
   "execution_count": 24,
   "metadata": {
    "collapsed": true
   },
   "outputs": [
    {
     "name": "stdout",
     "output_type": "stream",
     "text": [
      "          title  year              name     type              character     n\n",
      "1615     Hamlet  1996        Riz Abbasi    actor  Attendant to Claudius   1.0\n",
      "7438     Hamlet  1921  Fritz Achterberg    actor            Fortinbras,   9.0\n",
      "11242    Hamlet  2009      Hayden Adams    actor                Laertes   7.0\n",
      "11243    Hamlet  2009      Hayden Adams    actor                 Player   7.0\n",
      "13907    Hamlet  1913       Eric Adeney    actor               Reynaldo  14.0\n",
      "...         ...   ...               ...      ...                    ...   ...\n",
      "3505738  Hamlet  1969    Jennifer Tudor  actress             Court lady  23.0\n",
      "3528322  Hamlet  2000      Diane Venora  actress               Gertrude   3.0\n",
      "3557773  Hamlet  1996     Perdita Weeks  actress          Second Player  44.0\n",
      "3562331  Hamlet  2015   Katie (II) West  actress                Ophelia   7.0\n",
      "3578802  Hamlet  1996      Kate Winslet  actress                Ophelia  46.0\n",
      "\n",
      "[313 rows x 6 columns]\n"
     ]
    }
   ],
   "source": [
    "Hamlet_data= data[data[\"title\"]=='Hamlet']\n",
    "print(Hamlet_data)"
   ]
  },
  {
   "cell_type": "code",
   "execution_count": 27,
   "metadata": {
    "collapsed": true
   },
   "outputs": [
    {
     "name": "stdout",
     "output_type": "stream",
     "text": [
      "                                     title  year                    name  \\\n",
      "1545289                             Hamlet  1910       Jean Mounet-Sully   \n",
      "3369033                             Hamlet  1911           Emilie Sannom   \n",
      "1233662                             Hamlet  1911         Oscar Langkilde   \n",
      "3015440                             Hamlet  1911            Ella La Cour   \n",
      "1592118                             Hamlet  1911              Alwin Neu?   \n",
      "...                                    ...   ...                     ...   \n",
      "2356154  Royal Shakespeare Company: Hamlet  2016             Temi Wilkey   \n",
      "2356153  Royal Shakespeare Company: Hamlet  2016             Temi Wilkey   \n",
      "324361                        Hamlet (III)  2016       Tim (XX) Campbell   \n",
      "2136419                     Redneck Hamlet  2017             Girard Swan   \n",
      "2052041                     Redneck Hamlet  2017  Hannah Elizabeth Smith   \n",
      "\n",
      "            type                character     n  \n",
      "1545289    actor                   Hamlet   NaN  \n",
      "3369033  actress                  Ophelia   4.0  \n",
      "1233662    actor                  Horatio   6.0  \n",
      "3015440  actress                 Gertrude   3.0  \n",
      "1592118    actor                   Hamlet   1.0  \n",
      "...          ...                      ...   ...  \n",
      "2356154    actor  Gravedigger's Assistant  18.0  \n",
      "2356153    actor                Francisca  18.0  \n",
      "324361     actor                  Horatio   NaN  \n",
      "2136419    actor                   Hamlet   NaN  \n",
      "2052041    actor                  Ophelia   NaN  \n",
      "\n",
      "[921 rows x 6 columns]\n"
     ]
    }
   ],
   "source": [
    "Hamlet=data[data['title'].str.contains('Hamlet')]\n",
    "sorted_Hamlet=Hamlet.sort_values('year')\n",
    "print(sorted_Hamlet)"
   ]
  },
  {
   "cell_type": "code",
   "execution_count": 28,
   "metadata": {},
   "outputs": [
    {
     "name": "stdout",
     "output_type": "stream",
     "text": [
      "the first\"Hamlet\" movie was made in 1910\n"
     ]
    }
   ],
   "source": [
    "first_Hamlet_year=sorted_Hamlet['year'].iloc[0]\n",
    "print(f'the first\"Hamlet\" movie was made in {first_Hamlet_year}')"
   ]
  },
  {
   "cell_type": "markdown",
   "metadata": {
    "collapsed": true
   },
   "source": [
    "### List all of the \"Treasure Island\" movies from earliest to most recent."
   ]
  },
  {
   "cell_type": "code",
   "execution_count": 33,
   "metadata": {
    "collapsed": true
   },
   "outputs": [
    {
     "data": {
      "text/html": [
       "<div>\n",
       "<style scoped>\n",
       "    .dataframe tbody tr th:only-of-type {\n",
       "        vertical-align: middle;\n",
       "    }\n",
       "\n",
       "    .dataframe tbody tr th {\n",
       "        vertical-align: top;\n",
       "    }\n",
       "\n",
       "    .dataframe thead th {\n",
       "        text-align: right;\n",
       "    }\n",
       "</style>\n",
       "<table border=\"1\" class=\"dataframe\">\n",
       "  <thead>\n",
       "    <tr style=\"text-align: right;\">\n",
       "      <th></th>\n",
       "      <th>title</th>\n",
       "      <th>year</th>\n",
       "      <th>name</th>\n",
       "      <th>type</th>\n",
       "      <th>character</th>\n",
       "      <th>n</th>\n",
       "    </tr>\n",
       "  </thead>\n",
       "  <tbody>\n",
       "    <tr>\n",
       "      <th>9432</th>\n",
       "      <td>Treasure Island</td>\n",
       "      <td>1934</td>\n",
       "      <td>Robert Adair</td>\n",
       "      <td>actor</td>\n",
       "      <td>Tom - Seaman</td>\n",
       "      <td>NaN</td>\n",
       "    </tr>\n",
       "    <tr>\n",
       "      <th>13253</th>\n",
       "      <td>Treasure Island</td>\n",
       "      <td>1950</td>\n",
       "      <td>Chris Adcock</td>\n",
       "      <td>actor</td>\n",
       "      <td>Pike</td>\n",
       "      <td>26.0</td>\n",
       "    </tr>\n",
       "    <tr>\n",
       "      <th>16246</th>\n",
       "      <td>Treasure Island</td>\n",
       "      <td>1985</td>\n",
       "      <td>Yves Afonso</td>\n",
       "      <td>actor</td>\n",
       "      <td>French captain</td>\n",
       "      <td>8.0</td>\n",
       "    </tr>\n",
       "    <tr>\n",
       "      <th>42039</th>\n",
       "      <td>Treasure Island</td>\n",
       "      <td>1972</td>\n",
       "      <td>Cristino Almod?var</td>\n",
       "      <td>actor</td>\n",
       "      <td>O'Brien</td>\n",
       "      <td>16.0</td>\n",
       "    </tr>\n",
       "    <tr>\n",
       "      <th>55071</th>\n",
       "      <td>Treasure Island</td>\n",
       "      <td>1934</td>\n",
       "      <td>John (XII) Anderson</td>\n",
       "      <td>actor</td>\n",
       "      <td>Pirate of the Spanish Main</td>\n",
       "      <td>18.0</td>\n",
       "    </tr>\n",
       "    <tr>\n",
       "      <th>...</th>\n",
       "      <td>...</td>\n",
       "      <td>...</td>\n",
       "      <td>...</td>\n",
       "      <td>...</td>\n",
       "      <td>...</td>\n",
       "      <td>...</td>\n",
       "    </tr>\n",
       "    <tr>\n",
       "      <th>3415912</th>\n",
       "      <td>Treasure Island</td>\n",
       "      <td>1999</td>\n",
       "      <td>Rachel Singer</td>\n",
       "      <td>actress</td>\n",
       "      <td>Anna</td>\n",
       "      <td>6.0</td>\n",
       "    </tr>\n",
       "    <tr>\n",
       "      <th>3471316</th>\n",
       "      <td>Treasure Island</td>\n",
       "      <td>1934</td>\n",
       "      <td>Jane Talent</td>\n",
       "      <td>actress</td>\n",
       "      <td>Streetwalker</td>\n",
       "      <td>NaN</td>\n",
       "    </tr>\n",
       "    <tr>\n",
       "      <th>3507587</th>\n",
       "      <td>Treasure Island</td>\n",
       "      <td>1999</td>\n",
       "      <td>Guinevere Turner</td>\n",
       "      <td>actress</td>\n",
       "      <td>Evelyn</td>\n",
       "      <td>14.0</td>\n",
       "    </tr>\n",
       "    <tr>\n",
       "      <th>3553298</th>\n",
       "      <td>Treasure Island</td>\n",
       "      <td>1918</td>\n",
       "      <td>Eleanor Washington</td>\n",
       "      <td>actress</td>\n",
       "      <td>Prologue Player</td>\n",
       "      <td>NaN</td>\n",
       "    </tr>\n",
       "    <tr>\n",
       "      <th>3556764</th>\n",
       "      <td>Treasure Island</td>\n",
       "      <td>1973</td>\n",
       "      <td>Jane Webb</td>\n",
       "      <td>actress</td>\n",
       "      <td>Mrs. Hawkins</td>\n",
       "      <td>6.0</td>\n",
       "    </tr>\n",
       "  </tbody>\n",
       "</table>\n",
       "<p>190 rows × 6 columns</p>\n",
       "</div>"
      ],
      "text/plain": [
       "                   title  year                 name     type  \\\n",
       "9432     Treasure Island  1934         Robert Adair    actor   \n",
       "13253    Treasure Island  1950         Chris Adcock    actor   \n",
       "16246    Treasure Island  1985          Yves Afonso    actor   \n",
       "42039    Treasure Island  1972   Cristino Almod?var    actor   \n",
       "55071    Treasure Island  1934  John (XII) Anderson    actor   \n",
       "...                  ...   ...                  ...      ...   \n",
       "3415912  Treasure Island  1999        Rachel Singer  actress   \n",
       "3471316  Treasure Island  1934          Jane Talent  actress   \n",
       "3507587  Treasure Island  1999     Guinevere Turner  actress   \n",
       "3553298  Treasure Island  1918   Eleanor Washington  actress   \n",
       "3556764  Treasure Island  1973            Jane Webb  actress   \n",
       "\n",
       "                          character     n  \n",
       "9432                   Tom - Seaman   NaN  \n",
       "13253                          Pike  26.0  \n",
       "16246                French captain   8.0  \n",
       "42039                       O'Brien  16.0  \n",
       "55071    Pirate of the Spanish Main  18.0  \n",
       "...                             ...   ...  \n",
       "3415912                        Anna   6.0  \n",
       "3471316                Streetwalker   NaN  \n",
       "3507587                      Evelyn  14.0  \n",
       "3553298             Prologue Player   NaN  \n",
       "3556764                Mrs. Hawkins   6.0  \n",
       "\n",
       "[190 rows x 6 columns]"
      ]
     },
     "execution_count": 33,
     "metadata": {},
     "output_type": "execute_result"
    }
   ],
   "source": [
    "data.loc[data['title']=='Treasure Island']"
   ]
  },
  {
   "cell_type": "code",
   "execution_count": 34,
   "metadata": {},
   "outputs": [],
   "source": [
    "Treasure_Island_title=data[data['title'].str.contains('Treasure Island',case=False,na=False)]"
   ]
  },
  {
   "cell_type": "code",
   "execution_count": 37,
   "metadata": {
    "collapsed": true
   },
   "outputs": [
    {
     "name": "stdout",
     "output_type": "stream",
     "text": [
      "                                          title  year\n",
      "1417884                         Treasure Island  1918\n",
      "830114                          Treasure Island  1918\n",
      "840745                          Treasure Island  1918\n",
      "909157                          Treasure Island  1918\n",
      "1261579                         Treasure Island  1918\n",
      "...                                         ...   ...\n",
      "112778   National Theatre Live: Treasure Island  2015\n",
      "582897   National Theatre Live: Treasure Island  2015\n",
      "2654964  National Theatre Live: Treasure Island  2015\n",
      "511053   National Theatre Live: Treasure Island  2015\n",
      "2770990  National Theatre Live: Treasure Island  2015\n",
      "\n",
      "[525 rows x 2 columns]\n"
     ]
    }
   ],
   "source": [
    "sorted_Treasure_Island_title=Treasure_Island_title.sort_values(by='year')\n",
    "print(sorted_Treasure_Island_title[['title','year']])"
   ]
  },
  {
   "cell_type": "markdown",
   "metadata": {
    "collapsed": true
   },
   "source": [
    "### How many movies were made in the year 1950?"
   ]
  },
  {
   "cell_type": "code",
   "execution_count": 40,
   "metadata": {
    "collapsed": true
   },
   "outputs": [
    {
     "name": "stdout",
     "output_type": "stream",
     "text": [
      "                             title  year\n",
      "266               Palletoori Pilla  1950\n",
      "429                   Hallin Janne  1950\n",
      "430                   Hallin Janne  1950\n",
      "1481     Fortunes of Captain Blood  1950\n",
      "1497          The Baron of Arizona  1950\n",
      "...                            ...   ...\n",
      "3610440           La vida en broma  1950\n",
      "3610445               Quinto patio  1950\n",
      "3610681    Harukanari haha no kuni  1950\n",
      "3610827       Anderssonskans Kalle  1950\n",
      "3611137         Akdeniz korsanlari  1950\n",
      "\n",
      "[22006 rows x 2 columns]\n"
     ]
    }
   ],
   "source": [
    "movies_1950=data[data['year']==1950]\n",
    "print(movies_1950[['title','year']])"
   ]
  },
  {
   "cell_type": "markdown",
   "metadata": {
    "collapsed": true
   },
   "source": [
    "### How many movies were made in the year 1960?"
   ]
  },
  {
   "cell_type": "code",
   "execution_count": 41,
   "metadata": {
    "collapsed": true
   },
   "outputs": [
    {
     "name": "stdout",
     "output_type": "stream",
     "text": [
      "                              title  year\n",
      "68                     De zaak M.P.  1960\n",
      "115             Thunder in Carolina  1960\n",
      "133                        Noi duri  1960\n",
      "265      Sri Venkateswara Mahatmyam  1960\n",
      "268      Sri Venkateswara Mahatmyam  1960\n",
      "...                             ...   ...\n",
      "3610216                     Domaren  1960\n",
      "3610248    Alla vi barn i Bullerbyn  1960\n",
      "3610684             Kawaita mizuumi  1960\n",
      "3611050                    Omringet  1960\n",
      "3611127                      Venner  1960\n",
      "\n",
      "[18456 rows x 2 columns]\n"
     ]
    }
   ],
   "source": [
    "movies_1960=data[data['year']==1960]\n",
    "print(movies_1960[['title','year']])"
   ]
  },
  {
   "cell_type": "markdown",
   "metadata": {
    "collapsed": true
   },
   "source": [
    "### How many movies were made from 1950 through 1959?"
   ]
  },
  {
   "cell_type": "code",
   "execution_count": 42,
   "metadata": {},
   "outputs": [],
   "source": [
    "movies_1950=data[(data['year']>=1950) & (data['year']<=1959)]"
   ]
  },
  {
   "cell_type": "code",
   "execution_count": 44,
   "metadata": {},
   "outputs": [
    {
     "name": "stdout",
     "output_type": "stream",
     "text": [
      "the number of the movie is:210986\n"
     ]
    }
   ],
   "source": [
    "print(f'the number of the movie is:{len(movies_1950)}')"
   ]
  },
  {
   "cell_type": "markdown",
   "metadata": {
    "collapsed": true
   },
   "source": [
    "### In what years has a movie titled \"Batman\" been released?"
   ]
  },
  {
   "cell_type": "code",
   "execution_count": 45,
   "metadata": {},
   "outputs": [],
   "source": [
    "Batman_movies=data[data['title'].str.contains('Batman')]"
   ]
  },
  {
   "cell_type": "code",
   "execution_count": 46,
   "metadata": {
    "collapsed": true
   },
   "outputs": [
    {
     "name": "stdout",
     "output_type": "stream",
     "text": [
      "                                      title  year\n",
      "1026                  Batman Fights Dracula  1967\n",
      "1027                  Batman Fights Dracula  1967\n",
      "4281     Batman v Superman: Dawn of Justice  2016\n",
      "11311    Batman v Superman: Dawn of Justice  2016\n",
      "14827                     Batman: The Movie  1966\n",
      "...                                     ...   ...\n",
      "3583648  Batman v Superman: Dawn of Justice  2016\n",
      "3586919  Batman v Superman: Dawn of Justice  2016\n",
      "3597620                   Batman: The Movie  1966\n",
      "3607393             B@ (Batman Parody Film)  2016\n",
      "3609169               Alyas Batman en Robin  1991\n",
      "\n",
      "[1255 rows x 2 columns]\n"
     ]
    }
   ],
   "source": [
    "print(Batman_movies[['title','year']])"
   ]
  },
  {
   "cell_type": "markdown",
   "metadata": {
    "collapsed": true
   },
   "source": [
    "### How many roles were there in the movie \"Inception\"?"
   ]
  },
  {
   "cell_type": "code",
   "execution_count": 141,
   "metadata": {},
   "outputs": [],
   "source": [
    "Inception_character=data[(data['title']=='Inception') & (data['character'].notnull())]"
   ]
  },
  {
   "cell_type": "code",
   "execution_count": 142,
   "metadata": {},
   "outputs": [
    {
     "name": "stdout",
     "output_type": "stream",
     "text": [
      "77\n"
     ]
    }
   ],
   "source": [
    "num_character = Inception_character.shape[0]\n",
    "print(num_character)"
   ]
  },
  {
   "cell_type": "markdown",
   "metadata": {
    "collapsed": true
   },
   "source": [
    "### How many roles in the movie \"Inception\" are NOT ranked by an \"n\" value?"
   ]
  },
  {
   "cell_type": "code",
   "execution_count": 50,
   "metadata": {},
   "outputs": [],
   "source": [
    "n ='n'\n",
    "title ='title'"
   ]
  },
  {
   "cell_type": "code",
   "execution_count": 51,
   "metadata": {
    "collapsed": true
   },
   "outputs": [
    {
     "name": "stdout",
     "output_type": "stream",
     "text": [
      "                                                     title  year  \\\n",
      "56138    Fraud in the Inception: Who killed Robert Haml...  2013   \n",
      "94333                                            Inception  2010   \n",
      "143138                                           Inception  2010   \n",
      "176819                                           Inception  2010   \n",
      "190249                                           Inception  2010   \n",
      "...                                                    ...   ...   \n",
      "3238950                                          Inception  2010   \n",
      "3292669                                          Inception  2010   \n",
      "3319073                                          Inception  2010   \n",
      "3325768                                          Inception  2010   \n",
      "3560127                                          Inception  2010   \n",
      "\n",
      "                     character     type     n  \n",
      "56138                      Mac    actor   NaN  \n",
      "94333            LAX Passenger    actor   NaN  \n",
      "143138   Fischer's Jet Captain    actor  44.0  \n",
      "176819                Browning    actor   8.0  \n",
      "190249        Mombasan Gambler    actor   NaN  \n",
      "...                        ...      ...   ...  \n",
      "3238950                Ariadne  actress   3.0  \n",
      "3292669          Lobby Sub Con  actress  43.0  \n",
      "3319073          Private Nurse  actress  48.0  \n",
      "3325768                 Blonde  actress  25.0  \n",
      "3560127                Old Mal  actress  51.0  \n",
      "\n",
      "[86 rows x 5 columns]\n"
     ]
    }
   ],
   "source": [
    "Inception_movies=data[data['title'].str.contains('Inception')]\n",
    "print(Inception_movies[['title','year','character','type','n']])"
   ]
  },
  {
   "cell_type": "code",
   "execution_count": 52,
   "metadata": {},
   "outputs": [],
   "source": [
    "Inception_roles_unranked=data[(data[title_column]=='Inception') & data[n_column].isnull()]"
   ]
  },
  {
   "cell_type": "code",
   "execution_count": 53,
   "metadata": {},
   "outputs": [
    {
     "name": "stdout",
     "output_type": "stream",
     "text": [
      "26\n"
     ]
    }
   ],
   "source": [
    "count_unranked_roles = len(Inception_roles_unranked)\n",
    "print(count_unranked_roles)"
   ]
  },
  {
   "cell_type": "markdown",
   "metadata": {
    "collapsed": true
   },
   "source": [
    "### But how many roles in the movie \"Inception\" did receive an \"n\" value?"
   ]
  },
  {
   "cell_type": "code",
   "execution_count": 82,
   "metadata": {},
   "outputs": [],
   "source": [
    "Inception_roles_n_value=data[(data['title']=='Inception') & (data['n'].isnull())]"
   ]
  },
  {
   "cell_type": "code",
   "execution_count": 85,
   "metadata": {},
   "outputs": [
    {
     "name": "stdout",
     "output_type": "stream",
     "text": [
      "26\n"
     ]
    }
   ],
   "source": [
    "num_roles_with_n_value = Inception_roles_n_value.shape[0]\n",
    "print(num_roles_with_n_value)"
   ]
  },
  {
   "cell_type": "markdown",
   "metadata": {
    "collapsed": true
   },
   "source": [
    "### Display the cast of \"North by Northwest\" in their correct \"n\"-value order, ignoring roles that did not earn a numeric \"n\" value."
   ]
  },
  {
   "cell_type": "code",
   "execution_count": 91,
   "metadata": {},
   "outputs": [],
   "source": [
    "n='n'\n",
    "title='title'\n",
    "name='name'"
   ]
  },
  {
   "cell_type": "code",
   "execution_count": 92,
   "metadata": {},
   "outputs": [],
   "source": [
    "North_by_Northwest_name=data[(data[title]=='North by Northwest') & data[n].notnull()]"
   ]
  },
  {
   "cell_type": "code",
   "execution_count": 93,
   "metadata": {
    "collapsed": true
   },
   "outputs": [
    {
     "name": "stdout",
     "output_type": "stream",
     "text": [
      "                         name     n\n",
      "840374             Cary Grant   1.0\n",
      "3361396       Eva Marie Saint   2.0\n",
      "1404704           James Mason   3.0\n",
      "3024085   Jessie Royce Landis   4.0\n",
      "343701         Leo G. Carroll   5.0\n",
      "2923056  Josephine Hutchinson   6.0\n",
      "1634552           Philip Ober   7.0\n",
      "1229083         Martin Landau   8.0\n",
      "2357939         Adam Williams   9.0\n",
      "1746383          Edward Platt  10.0\n",
      "642085      Robert Ellenstein  11.0\n",
      "2212083          Les Tremayne  12.0\n",
      "447893        Philip Coolidge  13.0\n",
      "1454363         Patrick McVey  14.0\n",
      "198496           Edward Binns  15.0\n",
      "1334726             Ken Lynch  16.0\n"
     ]
    }
   ],
   "source": [
    "sorted_name=North_by_Northwest_name.sort_values(by='n')\n",
    "print(sorted_name[['name','n']])"
   ]
  },
  {
   "cell_type": "markdown",
   "metadata": {
    "collapsed": true
   },
   "source": [
    "### Display the entire cast, in \"n\"-order, of the 1972 film \"Sleuth\"."
   ]
  },
  {
   "cell_type": "code",
   "execution_count": 95,
   "metadata": {},
   "outputs": [],
   "source": [
    "Sleuth_1972_name=data[(data[title]=='Sleuth') & (data['year']==1972) & data[n].notnull()]"
   ]
  },
  {
   "cell_type": "code",
   "execution_count": 96,
   "metadata": {
    "collapsed": true
   },
   "outputs": [
    {
     "name": "stdout",
     "output_type": "stream",
     "text": [
      "                       name    n\n",
      "1644328    Laurence Olivier  1.0\n",
      "314691        Michael Caine  2.0\n",
      "360365       Alec Cawthorne  3.0\n",
      "1412647  John (II) Matthews  4.0\n",
      "2619278  Eve (III) Channing  5.0\n",
      "1396572        Teddy Martin  6.0\n"
     ]
    }
   ],
   "source": [
    "sorted_name =Sleuth_1972_name.sort_values(by=n)\n",
    "print(sorted_name[['name','n']])"
   ]
  },
  {
   "cell_type": "markdown",
   "metadata": {
    "collapsed": true
   },
   "source": [
    "### Now display the entire cast, in \"n\"-order, of the 2007 version of \"Sleuth\"."
   ]
  },
  {
   "cell_type": "code",
   "execution_count": 97,
   "metadata": {},
   "outputs": [],
   "source": [
    "Sleuth_2007_name=data[(data[title]=='Sleuth') & (data['year']==2007) & data[n].notnull()]"
   ]
  },
  {
   "cell_type": "code",
   "execution_count": 98,
   "metadata": {},
   "outputs": [
    {
     "name": "stdout",
     "output_type": "stream",
     "text": [
      "                  name    n\n",
      "314692   Michael Caine  1.0\n",
      "1246855       Jude Law  2.0\n",
      "1741124  Harold Pinter  3.0\n"
     ]
    }
   ],
   "source": [
    "sorted_name =Sleuth_2007_name.sort_values(by=n)\n",
    "print(sorted_name[[cast,n]])"
   ]
  },
  {
   "cell_type": "markdown",
   "metadata": {
    "collapsed": true
   },
   "source": [
    "### How many roles were credited in the silent 1921 version of Hamlet?"
   ]
  },
  {
   "cell_type": "code",
   "execution_count": 8,
   "metadata": {},
   "outputs": [],
   "source": [
    "year='year'\n",
    "character='character'"
   ]
  },
  {
   "cell_type": "code",
   "execution_count": 15,
   "metadata": {},
   "outputs": [],
   "source": [
    "Hamlet_1921=data[(data['title']=='Hamlet') & (data['year']==1921)]"
   ]
  },
  {
   "cell_type": "code",
   "execution_count": 17,
   "metadata": {},
   "outputs": [
    {
     "name": "stdout",
     "output_type": "stream",
     "text": [
      "9\n"
     ]
    }
   ],
   "source": [
    "num_character =len(Hamlet_1921)\n",
    "print(num_character)\n"
   ]
  },
  {
   "cell_type": "code",
   "execution_count": 103,
   "metadata": {},
   "outputs": [
    {
     "name": "stdout",
     "output_type": "stream",
     "text": [
      "          title  year                    name     type         character    n\n",
      "7438     Hamlet  1921        Fritz Achterberg    actor       Fortinbras,  9.0\n",
      "442224   Hamlet  1921            Paul Conradi    actor      K?nig Hamlet  2.0\n",
      "535307   Hamlet  1921        Anton De Verdier    actor           Laertes  7.0\n",
      "1095274  Hamlet  1921         Hans Junkermann    actor          Polonius  6.0\n",
      "2106367  Hamlet  1921            Heinz Stieda    actor           Horatio  5.0\n",
      "2289163  Hamlet  1921  Eduard von Winterstein    actor          Claudius  4.0\n",
      "2562876  Hamlet  1921         Mathilde Brandt  actress  K?nigin Gertrude  3.0\n",
      "2935728  Hamlet  1921          Lilly Jacobson  actress           Ophelia  8.0\n",
      "3209199  Hamlet  1921            Asta Nielsen  actress            Hamlet  1.0\n"
     ]
    }
   ],
   "source": [
    "print(data[(data[title]=='Hamlet') & (data[year]==1921)])"
   ]
  },
  {
   "cell_type": "markdown",
   "metadata": {
    "collapsed": true
   },
   "source": [
    "### How many roles were credited in Branagh’s 1996 Hamlet?"
   ]
  },
  {
   "cell_type": "code",
   "execution_count": 110,
   "metadata": {},
   "outputs": [],
   "source": [
    "Branagh_Hamlet_1996_roles=data[(data[name]=='Kenneth Branagh')& (data[year]==1996) & data[n].notnull()]"
   ]
  },
  {
   "cell_type": "code",
   "execution_count": 111,
   "metadata": {},
   "outputs": [
    {
     "name": "stdout",
     "output_type": "stream",
     "text": [
      "1\n"
     ]
    }
   ],
   "source": [
    "num_credited_roles = len(Branagh_Hamlet_1996_roles)\n",
    "print(num_credited_roles)"
   ]
  },
  {
   "cell_type": "markdown",
   "metadata": {
    "collapsed": true
   },
   "source": [
    "### How many \"Hamlet\" roles have been listed in all film credits through history?"
   ]
  },
  {
   "cell_type": "code",
   "execution_count": 112,
   "metadata": {},
   "outputs": [],
   "source": [
    "Hamlet_roles= data[(data[character]=='Hamlet')]"
   ]
  },
  {
   "cell_type": "code",
   "execution_count": 113,
   "metadata": {},
   "outputs": [
    {
     "name": "stdout",
     "output_type": "stream",
     "text": [
      "91\n"
     ]
    }
   ],
   "source": [
    "total_Hamlet_roles=len(Hamlet_roles)\n",
    "print(total_Hamlet_roles)"
   ]
  },
  {
   "cell_type": "markdown",
   "metadata": {
    "collapsed": true
   },
   "source": [
    "### How many people have played an \"Ophelia\"?"
   ]
  },
  {
   "cell_type": "code",
   "execution_count": 116,
   "metadata": {},
   "outputs": [],
   "source": [
    "Ophelia_actor=data[(data[character]=='Ophelia')]"
   ]
  },
  {
   "cell_type": "code",
   "execution_count": 117,
   "metadata": {},
   "outputs": [
    {
     "name": "stdout",
     "output_type": "stream",
     "text": [
      "238855              Amy Bourque\n",
      "395196           Josie Chisholm\n",
      "453835          Crystal Cordero\n",
      "835461            Lucas Grabeel\n",
      "1315145     Catherine (IV) Lord\n",
      "                   ...         \n",
      "3538349          Ingrid Vollset\n",
      "3551691         Marsha Warfield\n",
      "3552384    Jennifer Lynn Warren\n",
      "3562331         Katie (II) West\n",
      "3578802            Kate Winslet\n",
      "Name: name, Length: 111, dtype: object\n"
     ]
    }
   ],
   "source": [
    "num_Ophelia_actor =Ophelia_actor[name]\n",
    "print(num_Ophelia_actor)"
   ]
  },
  {
   "cell_type": "code",
   "execution_count": 118,
   "metadata": {},
   "outputs": [
    {
     "name": "stdout",
     "output_type": "stream",
     "text": [
      "109\n"
     ]
    }
   ],
   "source": [
    "num_Ophelia_actor =Ophelia_actor[name].nunique()\n",
    "print(num_Ophelia_actor)"
   ]
  },
  {
   "cell_type": "markdown",
   "metadata": {
    "collapsed": true
   },
   "source": [
    "### How many people have played a role called \"The Dude\"?"
   ]
  },
  {
   "cell_type": "code",
   "execution_count": 119,
   "metadata": {},
   "outputs": [],
   "source": [
    "The_Dude_actor=data[(data[character]=='The Dude')]"
   ]
  },
  {
   "cell_type": "code",
   "execution_count": 120,
   "metadata": {
    "collapsed": true
   },
   "outputs": [
    {
     "name": "stdout",
     "output_type": "stream",
     "text": [
      "261792             Jeff Bridges\n",
      "326893              Jordan Cann\n",
      "480810            Scott Crowell\n",
      "549887           Chris DeMarcus\n",
      "588962              Mike Donlin\n",
      "607151           Devin The Dude\n",
      "1051244     Matthew (XIX) James\n",
      "1098711      Christopher Kadish\n",
      "1317786        Jason Loughridge\n",
      "1336484             Steve Lyons\n",
      "1458465          Mark Alan Meek\n",
      "1485772             Jerry Miley\n",
      "1720449        House Peters Jr.\n",
      "1759296    Thomas (VIII) Porter\n",
      "1772919         Jason Priestley\n",
      "2122519            Bobby Styles\n",
      "2250949         Dick Van Patten\n",
      "2330925              Joel Weiss\n",
      "Name: name, dtype: object\n"
     ]
    }
   ],
   "source": [
    "num_The_Dude_actor =The_Dude_actor[name]\n",
    "print(num_The_Dude_actor)"
   ]
  },
  {
   "cell_type": "code",
   "execution_count": 121,
   "metadata": {},
   "outputs": [
    {
     "name": "stdout",
     "output_type": "stream",
     "text": [
      "18\n"
     ]
    }
   ],
   "source": [
    "num_The_Dude_actor =The_Dude_actor[name].nunique()\n",
    "print(num_The_Dude_actor)"
   ]
  },
  {
   "cell_type": "markdown",
   "metadata": {
    "collapsed": true
   },
   "source": [
    "### How many people have played a role called \"The Stranger\"?"
   ]
  },
  {
   "cell_type": "code",
   "execution_count": 122,
   "metadata": {},
   "outputs": [],
   "source": [
    "The_Stranger_actor=data[(data[character]=='The Stranger')]"
   ]
  },
  {
   "cell_type": "code",
   "execution_count": 123,
   "metadata": {},
   "outputs": [
    {
     "name": "stdout",
     "output_type": "stream",
     "text": [
      "197\n"
     ]
    }
   ],
   "source": [
    "num_The_Stranger_actor =The_Stranger_actor[name].nunique()\n",
    "print(num_The_Stranger_actor)"
   ]
  },
  {
   "cell_type": "markdown",
   "metadata": {
    "collapsed": true
   },
   "source": [
    "### How many roles has Sidney Poitier played throughout his career?"
   ]
  },
  {
   "cell_type": "code",
   "execution_count": 30,
   "metadata": {},
   "outputs": [],
   "source": [
    "Sidney_Poitier_roles=data[(data['name'].str.contains('Sidney Poitier',case=False))]"
   ]
  },
  {
   "cell_type": "code",
   "execution_count": 31,
   "metadata": {},
   "outputs": [
    {
     "name": "stdout",
     "output_type": "stream",
     "text": [
      "43\n"
     ]
    }
   ],
   "source": [
    "num_roles=len(Sidney_Poitier_roles)\n",
    "print(num_roles)"
   ]
  },
  {
   "cell_type": "markdown",
   "metadata": {
    "collapsed": true
   },
   "source": [
    "### How many roles has Judi Dench played?"
   ]
  },
  {
   "cell_type": "code",
   "execution_count": 9,
   "metadata": {},
   "outputs": [],
   "source": [
    "name='name'\n",
    "title='title'\n",
    "n='n'\n",
    "actor='actor'\n",
    "character='character'"
   ]
  },
  {
   "cell_type": "code",
   "execution_count": 19,
   "metadata": {},
   "outputs": [],
   "source": [
    "Judi_Dench_roles = data[(data[name]=='Judi Dench') & data[n].notnull()]"
   ]
  },
  {
   "cell_type": "code",
   "execution_count": 21,
   "metadata": {},
   "outputs": [
    {
     "name": "stdout",
     "output_type": "stream",
     "text": [
      " the number of roles played:48\n"
     ]
    }
   ],
   "source": [
    "num_Judi_Dench_roles=len(Judi_Dench_roles)\n",
    "print(f' the number of roles played:{num_Judi_Dench_roles}')"
   ]
  },
  {
   "cell_type": "markdown",
   "metadata": {
    "collapsed": true
   },
   "source": [
    "### List the supporting roles (having n=2) played by Cary Grant in the 1940s, in order by year."
   ]
  },
  {
   "cell_type": "code",
   "execution_count": 124,
   "metadata": {},
   "outputs": [],
   "source": [
    "Cary_Grant_supporting_roles_1940=data[(data['n']==2) & (data['type']=='actor') & (data['year']==1940)]"
   ]
  },
  {
   "cell_type": "code",
   "execution_count": 125,
   "metadata": {},
   "outputs": [],
   "source": [
    "sorted_Cary_Grant_supporting_roles_1940= Cary_Grant_supporting_roles_1940.sort_values('year')"
   ]
  },
  {
   "cell_type": "code",
   "execution_count": 126,
   "metadata": {},
   "outputs": [
    {
     "name": "stdout",
     "output_type": "stream",
     "text": [
      "                              title  year\n",
      "15124                     Ett brott  1940\n",
      "1546227                Scatterbrain  1940\n",
      "1546167                Curtain Call  1940\n",
      "1542223  Meine Tochter lebt in Wien  1940\n",
      "1537821      Brother Rat and a Baby  1940\n",
      "...                             ...   ...\n",
      "722139              Isle of Destiny  1940\n",
      "721128              Babies for Sale  1940\n",
      "721127              Babies for Sale  1940\n",
      "890031           South of Pago Pago  1940\n",
      "2418891        Sportowiec mimo woli  1940\n",
      "\n",
      "[389 rows x 2 columns]\n"
     ]
    }
   ],
   "source": [
    "print(sorted_Cary_Grant_supporting_roles_1940[['title','year']])"
   ]
  },
  {
   "cell_type": "markdown",
   "metadata": {
    "collapsed": true
   },
   "source": [
    "### List the leading roles that Cary Grant played in the 1940s in order by year."
   ]
  },
  {
   "cell_type": "code",
   "execution_count": 127,
   "metadata": {},
   "outputs": [],
   "source": [
    "Cary_Grant_leading_roles_1940=data[(data['n']==1) & (data['type']=='actor') & (data['year']==1940)]"
   ]
  },
  {
   "cell_type": "code",
   "execution_count": 128,
   "metadata": {},
   "outputs": [
    {
     "name": "stdout",
     "output_type": "stream",
     "text": [
      "                         title  year\n",
      "9357     The Ramparts We Watch  1940\n",
      "1531393            River's End  1940\n",
      "1531394            River's End  1940\n",
      "1531399         Tear Gas Squad  1940\n",
      "1531515             Hullabaloo  1940\n",
      "...                        ...   ...\n",
      "773192       East of the River  1940\n",
      "773193            Flowing Gold  1940\n",
      "773194            Flowing Gold  1940\n",
      "754036      They Came by Night  1940\n",
      "2413845         Sporting Blood  1940\n",
      "\n",
      "[614 rows x 2 columns]\n"
     ]
    }
   ],
   "source": [
    "sorted_Cary_Grant_leading_roles_1940= Cary_Grant_leading_roles_1940.sort_values('year')\n",
    "print(sorted_Cary_Grant_leading_roles_1940[['title','year']])"
   ]
  },
  {
   "cell_type": "markdown",
   "metadata": {
    "collapsed": true
   },
   "source": [
    "### How many roles were available for actors in the 1950s?"
   ]
  },
  {
   "cell_type": "code",
   "execution_count": 129,
   "metadata": {},
   "outputs": [],
   "source": [
    "actor_roles_1950 = data[(data[year]//10==195)]"
   ]
  },
  {
   "cell_type": "code",
   "execution_count": 132,
   "metadata": {},
   "outputs": [
    {
     "name": "stdout",
     "output_type": "stream",
     "text": [
      "210986\n"
     ]
    }
   ],
   "source": [
    "num_roles_1950 =len(actor_roles_1950)\n",
    "print(num_roles_1950)"
   ]
  },
  {
   "cell_type": "markdown",
   "metadata": {
    "collapsed": true
   },
   "source": [
    "### How many roles were available for actresses in the 1950s?"
   ]
  },
  {
   "cell_type": "code",
   "execution_count": 133,
   "metadata": {},
   "outputs": [],
   "source": [
    "actresses_roles_1950 = data[(data[year]//10==195)] # in data not mention actress thats why its show same value as actor"
   ]
  },
  {
   "cell_type": "code",
   "execution_count": 134,
   "metadata": {},
   "outputs": [
    {
     "name": "stdout",
     "output_type": "stream",
     "text": [
      "210986\n"
     ]
    }
   ],
   "source": [
    "num_roles_1950 =len(actresses_roles_1950)\n",
    "print(num_roles_1950)"
   ]
  },
  {
   "cell_type": "markdown",
   "metadata": {
    "collapsed": true
   },
   "source": [
    "### How many leading roles (n=1) were available from the beginning of film history through 1980?"
   ]
  },
  {
   "cell_type": "code",
   "execution_count": 135,
   "metadata": {},
   "outputs": [],
   "source": [
    "leading_roles_until_1980 = data[(data['n']==1) & (data['year']<= 1980)]"
   ]
  },
  {
   "cell_type": "code",
   "execution_count": 136,
   "metadata": {},
   "outputs": [
    {
     "name": "stdout",
     "output_type": "stream",
     "text": [
      "63924\n"
     ]
    }
   ],
   "source": [
    "num_leading_roles_until_1980=len(leading_roles_until_1980)\n",
    "print(num_leading_roles_until_1980)"
   ]
  },
  {
   "cell_type": "markdown",
   "metadata": {
    "collapsed": true
   },
   "source": [
    "### How many non-leading roles were available through from the beginning of film history through 1980?"
   ]
  },
  {
   "cell_type": "code",
   "execution_count": 137,
   "metadata": {},
   "outputs": [],
   "source": [
    "non_leading_roles_until_1980 = data[(data['n']!=1) & (data['year']<= 1980)]"
   ]
  },
  {
   "cell_type": "code",
   "execution_count": 138,
   "metadata": {},
   "outputs": [
    {
     "name": "stdout",
     "output_type": "stream",
     "text": [
      "1094780\n"
     ]
    }
   ],
   "source": [
    "num_non_leading_roles_until_1980=len(non_leading_roles_until_1980)\n",
    "print(num_non_leading_roles_until_1980)"
   ]
  },
  {
   "cell_type": "markdown",
   "metadata": {
    "collapsed": true
   },
   "source": [
    "### How many roles through 1980 were minor enough that they did not warrant a numeric \"n\" rank?"
   ]
  },
  {
   "cell_type": "code",
   "execution_count": 139,
   "metadata": {},
   "outputs": [],
   "source": [
    "minor_roles_until_1980 = data[(data['n'].isna()) & (data['year']<= 1980)]"
   ]
  },
  {
   "cell_type": "code",
   "execution_count": 140,
   "metadata": {},
   "outputs": [
    {
     "name": "stdout",
     "output_type": "stream",
     "text": [
      "438086\n"
     ]
    }
   ],
   "source": [
    "num_minor_roles_until_1980=len(minor_roles_until_1980)\n",
    "print(num_minor_roles_until_1980)"
   ]
  }
 ],
 "metadata": {
  "kernelspec": {
   "display_name": "Python 3 (ipykernel)",
   "language": "python",
   "name": "python3"
  },
  "language_info": {
   "codemirror_mode": {
    "name": "ipython",
    "version": 3
   },
   "file_extension": ".py",
   "mimetype": "text/x-python",
   "name": "python",
   "nbconvert_exporter": "python",
   "pygments_lexer": "ipython3",
   "version": "3.11.4"
  }
 },
 "nbformat": 4,
 "nbformat_minor": 1
}
